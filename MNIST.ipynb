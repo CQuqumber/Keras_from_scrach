{
 "cells": [
  {
   "cell_type": "code",
   "execution_count": 2,
   "metadata": {},
   "outputs": [
    {
     "name": "stderr",
     "output_type": "stream",
     "text": [
      "Using TensorFlow backend.\n"
     ]
    }
   ],
   "source": [
    "from keras.datasets import mnist\n",
    "(X_train, y_train), (X_test, y_test) = mnist.load_data()"
   ]
  },
  {
   "cell_type": "code",
   "execution_count": 27,
   "metadata": {},
   "outputs": [
    {
     "data": {
      "image/png": "[encoded data removed]",
      "text/plain": [
       "<matplotlib.figure.Figure at 0x11c97ef98>"
      ]
     },
     "metadata": {},
     "output_type": "display_data"
    }
   ],
   "source": [
    "from scipy.misc import toimage\n",
    "for i in range(0, 9):\n",
    "    plt.subplot(330 + 1 + i)\n",
    "    plt.imshow(toimage(X_train[i]))\n",
    "\n",
    "plt.show()"
   ]
  },
  {
   "cell_type": "code",
   "execution_count": 28,
   "metadata": {
    "collapsed": true
   },
   "outputs": [],
   "source": [
    "##  觀察：Labeled Data 只有一個陣列"
   ]
  },
  {
   "cell_type": "code",
   "execution_count": 29,
   "metadata": {},
   "outputs": [
    {
     "data": {
      "text/plain": [
       "array([5, 0, 4, ..., 5, 6, 8], dtype=uint8)"
      ]
     },
     "execution_count": 29,
     "metadata": {},
     "output_type": "execute_result"
    }
   ],
   "source": [
    "y_train"
   ]
  },
  {
   "cell_type": "code",
   "execution_count": 30,
   "metadata": {
    "collapsed": true
   },
   "outputs": [],
   "source": [
    "import numpy as np\n",
    "from keras.datasets import mnist\n",
    "from keras.models import Sequential\n",
    "from keras.layers import Dense\n",
    "from keras.layers import Dropout\n",
    "from keras.utils import np_utils"
   ]
  },
  {
   "cell_type": "code",
   "execution_count": 31,
   "metadata": {
    "collapsed": true
   },
   "outputs": [],
   "source": [
    "seed = 9487\n",
    "np.random.seed(seed)"
   ]
  },
  {
   "cell_type": "code",
   "execution_count": 32,
   "metadata": {
    "collapsed": true
   },
   "outputs": [],
   "source": [
    "X_train = X_train.reshape(X_train.shape[0], 28*28).astype('float32')\n",
    "X_test = X_test.reshape(X_test.shape[0], 28*28).astype('float32')"
   ]
  },
  {
   "cell_type": "code",
   "execution_count": 33,
   "metadata": {
    "collapsed": true
   },
   "outputs": [],
   "source": [
    "X_train = X_train / 255\n",
    "X_test = X_test / 255"
   ]
  },
  {
   "cell_type": "code",
   "execution_count": 34,
   "metadata": {},
   "outputs": [
    {
     "data": {
      "text/plain": [
       "(60000, 784)"
      ]
     },
     "execution_count": 34,
     "metadata": {},
     "output_type": "execute_result"
    }
   ],
   "source": [
    "X_train.shape"
   ]
  },
  {
   "cell_type": "code",
   "execution_count": 8,
   "metadata": {
    "collapsed": true
   },
   "outputs": [],
   "source": [
    "y_train = np_utils.to_categorical(y_train)\n",
    "y_test = np_utils.to_categorical(y_test)\n"
   ]
  },
  {
   "cell_type": "code",
   "execution_count": 13,
   "metadata": {},
   "outputs": [
    {
     "data": {
      "text/plain": [
       "array([[ 0.,  0.,  0., ...,  0.,  0.,  0.],\n",
       "       [ 1.,  0.,  0., ...,  0.,  0.,  0.],\n",
       "       [ 0.,  0.,  0., ...,  0.,  0.,  0.],\n",
       "       ..., \n",
       "       [ 0.,  0.,  0., ...,  0.,  0.,  0.],\n",
       "       [ 0.,  0.,  0., ...,  0.,  0.,  0.],\n",
       "       [ 0.,  0.,  0., ...,  0.,  1.,  0.]])"
      ]
     },
     "execution_count": 13,
     "metadata": {},
     "output_type": "execute_result"
    }
   ],
   "source": [
    "## Q: 為什麼要轉成多陣列？  Ａ：因為要對應到機率，0~9誰的機率高，就是誰\n",
    "y_train "
   ]
  },
  {
   "cell_type": "markdown",
   "metadata": {},
   "source": [
    "## One Layer 10 Neurons Prformance"
   ]
  },
  {
   "cell_type": "code",
   "execution_count": 22,
   "metadata": {
    "collapsed": true
   },
   "outputs": [],
   "source": [
    "def baseline_model():\n",
    "    model = Sequential()\n",
    "    model.add(Dense(10, input_dim=28*28, kernel_initializer = 'normal' ,\n",
    "            activation='softmax'))\n",
    "        \n",
    "    model.compile(loss = 'categorical_crossentropy' , optimizer = 'adam' , metrics = [ 'accuracy' ])\n",
    "    return model"
   ]
  },
  {
   "cell_type": "code",
   "execution_count": 25,
   "metadata": {},
   "outputs": [
    {
     "name": "stdout",
     "output_type": "stream",
     "text": [
      "Train on 60000 samples, validate on 10000 samples\n",
      "Epoch 1/10\n",
      "2s - loss: 0.5552 - acc: 0.8572 - val_loss: 0.3332 - val_acc: 0.9117\n",
      "Epoch 2/10\n",
      "2s - loss: 0.3251 - acc: 0.9102 - val_loss: 0.2954 - val_acc: 0.9193\n",
      "Epoch 3/10\n",
      "1s - loss: 0.2962 - acc: 0.9172 - val_loss: 0.2832 - val_acc: 0.9218\n",
      "Epoch 4/10\n",
      "1s - loss: 0.2825 - acc: 0.9209 - val_loss: 0.2746 - val_acc: 0.9225\n",
      "Epoch 5/10\n",
      "2s - loss: 0.2741 - acc: 0.9230 - val_loss: 0.2706 - val_acc: 0.9238\n",
      "Epoch 6/10\n",
      "1s - loss: 0.2682 - acc: 0.9258 - val_loss: 0.2670 - val_acc: 0.9266\n",
      "Epoch 7/10\n",
      "1s - loss: 0.2639 - acc: 0.9271 - val_loss: 0.2688 - val_acc: 0.9240\n",
      "Epoch 8/10\n",
      "1s - loss: 0.2604 - acc: 0.9278 - val_loss: 0.2647 - val_acc: 0.9260\n",
      "Epoch 9/10\n",
      "2s - loss: 0.2576 - acc: 0.9285 - val_loss: 0.2643 - val_acc: 0.9256\n",
      "Epoch 10/10\n",
      "1s - loss: 0.2545 - acc: 0.9288 - val_loss: 0.2620 - val_acc: 0.9268\n",
      "Baseline Error: 7.32%\n"
     ]
    }
   ],
   "source": [
    "model = baseline_model()\n",
    "# Fit the model\n",
    "model.fit(X_train, y_train, validation_data=(X_test, y_test), epochs=10, batch_size=64,\n",
    "    verbose=2)\n",
    "# Final evaluation of the model\n",
    "scores = model.evaluate(X_test, y_test, verbose=0)\n",
    "print(\"Baseline Error: %.2f%%\" % (100-scores[1]*100))"
   ]
  },
  {
   "cell_type": "markdown",
   "metadata": {},
   "source": [
    "## Two Layers, each 10 Neurons, with Relu ACT"
   ]
  },
  {
   "cell_type": "code",
   "execution_count": 26,
   "metadata": {},
   "outputs": [
    {
     "name": "stdout",
     "output_type": "stream",
     "text": [
      "Train on 60000 samples, validate on 10000 samples\n",
      "Epoch 1/10\n",
      "2s - loss: 0.7083 - acc: 0.7919 - val_loss: 0.3457 - val_acc: 0.9034\n",
      "Epoch 2/10\n",
      "2s - loss: 0.3332 - acc: 0.9051 - val_loss: 0.2944 - val_acc: 0.9167\n",
      "Epoch 3/10\n",
      "2s - loss: 0.2983 - acc: 0.9147 - val_loss: 0.2793 - val_acc: 0.9208\n",
      "Epoch 4/10\n",
      "2s - loss: 0.2793 - acc: 0.9195 - val_loss: 0.2643 - val_acc: 0.9235\n",
      "Epoch 5/10\n",
      "2s - loss: 0.2649 - acc: 0.9239 - val_loss: 0.2572 - val_acc: 0.9260\n",
      "Epoch 6/10\n",
      "2s - loss: 0.2529 - acc: 0.9269 - val_loss: 0.2473 - val_acc: 0.9280\n",
      "Epoch 7/10\n",
      "2s - loss: 0.2434 - acc: 0.9302 - val_loss: 0.2419 - val_acc: 0.9298\n",
      "Epoch 8/10\n",
      "2s - loss: 0.2355 - acc: 0.9321 - val_loss: 0.2393 - val_acc: 0.9293\n",
      "Epoch 9/10\n",
      "2s - loss: 0.2294 - acc: 0.9344 - val_loss: 0.2323 - val_acc: 0.9336\n",
      "Epoch 10/10\n",
      "2s - loss: 0.2239 - acc: 0.9353 - val_loss: 0.2266 - val_acc: 0.9352\n",
      "Baseline Error: 6.48%\n"
     ]
    }
   ],
   "source": [
    "def  two_layers_model():\n",
    "    model = Sequential()\n",
    "    model.add(Dense(10, input_dim=28*28, kernel_initializer = 'normal' ,\n",
    "            activation='relu'))\n",
    "    \n",
    "    model.add(Dense(10, kernel_initializer = 'normal' , activation = 'softmax'))\n",
    "    \n",
    "    model.compile(loss = 'categorical_crossentropy' , optimizer = 'adam' , metrics = [ 'accuracy' ])\n",
    "    return model\n",
    "\n",
    "model = two_layers_model()\n",
    "# Fit the model\n",
    "model.fit(X_train, y_train, validation_data=(X_test, y_test), epochs=10, batch_size=64,\n",
    "    verbose=2)\n",
    "# Final evaluation of the model\n",
    "scores = model.evaluate(X_test, y_test, verbose=0)\n",
    "print(\"Baseline Error: %.2f%%\" % (100-scores[1]*100))"
   ]
  },
  {
   "cell_type": "markdown",
   "metadata": {},
   "source": [
    "## Two Layers, each 10 Neurons with tiny shift weights"
   ]
  },
  {
   "cell_type": "code",
   "execution_count": 27,
   "metadata": {
    "collapsed": true
   },
   "outputs": [],
   "source": [
    "from keras import initializers"
   ]
  },
  {
   "cell_type": "code",
   "execution_count": 32,
   "metadata": {},
   "outputs": [
    {
     "name": "stdout",
     "output_type": "stream",
     "text": [
      "Train on 60000 samples, validate on 10000 samples\n",
      "Epoch 1/10\n",
      "2s - loss: 0.6787 - acc: 0.8268 - val_loss: 0.3469 - val_acc: 0.9058\n",
      "Epoch 2/10\n",
      "2s - loss: 0.3304 - acc: 0.9063 - val_loss: 0.2970 - val_acc: 0.9173\n",
      "Epoch 3/10\n",
      "2s - loss: 0.2943 - acc: 0.9166 - val_loss: 0.2717 - val_acc: 0.9228\n",
      "Epoch 4/10\n",
      "2s - loss: 0.2745 - acc: 0.9224 - val_loss: 0.2593 - val_acc: 0.9262\n",
      "Epoch 5/10\n",
      "2s - loss: 0.2605 - acc: 0.9266 - val_loss: 0.2507 - val_acc: 0.9293\n",
      "Epoch 6/10\n",
      "2s - loss: 0.2497 - acc: 0.9296 - val_loss: 0.2430 - val_acc: 0.9323\n",
      "Epoch 7/10\n",
      "2s - loss: 0.2400 - acc: 0.9322 - val_loss: 0.2438 - val_acc: 0.9313\n",
      "Epoch 8/10\n",
      "2s - loss: 0.2314 - acc: 0.9343 - val_loss: 0.2307 - val_acc: 0.9360\n",
      "Epoch 9/10\n",
      "2s - loss: 0.2247 - acc: 0.9366 - val_loss: 0.2294 - val_acc: 0.9361\n",
      "Epoch 10/10\n",
      "2s - loss: 0.2191 - acc: 0.9380 - val_loss: 0.2222 - val_acc: 0.9377\n",
      "Baseline Error: 6.23%\n"
     ]
    }
   ],
   "source": [
    "def tiny_shift_model():\n",
    "    model = Sequential()\n",
    "    model.add(Dense(10, input_dim=28*28, \n",
    "                    kernel_initializer = initializers.TruncatedNormal(mean=0.0001, stddev=0.01, seed=9487) ,\n",
    "                    activation='relu'))\n",
    "    \n",
    "    model.add(Dense(10, kernel_initializer = 'normal' , activation = 'softmax'))\n",
    "    \n",
    "    model.compile(loss = 'categorical_crossentropy' , optimizer = 'adam' , metrics = [ 'accuracy' ])\n",
    "    return model\n",
    "\n",
    "model = tiny_shift_model()\n",
    "# Fit the model\n",
    "model.fit(X_train, y_train, validation_data=(X_test, y_test), epochs=10, batch_size=64,\n",
    "    verbose=2)\n",
    "# Final evaluation of the model\n",
    "scores = model.evaluate(X_test, y_test, verbose=0)\n",
    "print(\"Baseline Error: %.2f%%\" % (100-scores[1]*100))"
   ]
  },
  {
   "cell_type": "markdown",
   "metadata": {
    "collapsed": true
   },
   "source": [
    "## KNN"
   ]
  },
  {
   "cell_type": "code",
   "execution_count": 30,
   "metadata": {},
   "outputs": [
    {
     "name": "stderr",
     "output_type": "stream",
     "text": [
      "/Users/Joel/anaconda/envs/py3/lib/python3.6/site-packages/sklearn/cross_validation.py:44: DeprecationWarning: This module was deprecated in version 0.18 in favor of the model_selection module into which all the refactored classes and functions are moved. Also note that the interface of the new CV iterators are different from that of this module. This module will be removed in 0.20.\n",
      "  \"This module will be removed in 0.20.\", DeprecationWarning)\n"
     ]
    }
   ],
   "source": [
    "from sklearn.neighbors import KNeighborsClassifier\n",
    "from sklearn.datasets import load_digits\n",
    "from sklearn.cross_validation import train_test_split\n",
    "import matplotlib.pyplot as plt\n",
    "%matplotlib notebook\n",
    "from scipy.misc import toimage"
   ]
  },
  {
   "cell_type": "code",
   "execution_count": 42,
   "metadata": {},
   "outputs": [
    {
     "data": {
      "text/plain": [
       "{'DESCR': \"Optical Recognition of Handwritten Digits Data Set\\n===================================================\\n\\nNotes\\n-----\\nData Set Characteristics:\\n    :Number of Instances: 5620\\n    :Number of Attributes: 64\\n    :Attribute Information: 8x8 image of integer pixels in the range 0..16.\\n    :Missing Attribute Values: None\\n    :Creator: E. Alpaydin (alpaydin '@' boun.edu.tr)\\n    :Date: July; 1998\\n\\nThis is a copy of the test set of the UCI ML hand-written digits datasets\\nhttp://archive.ics.uci.edu/ml/datasets/Optical+Recognition+of+Handwritten+Digits\\n\\nThe data set contains images of hand-written digits: 10 classes where\\neach class refers to a digit.\\n\\nPreprocessing programs made available by NIST were used to extract\\nnormalized bitmaps of handwritten digits from a preprinted form. From a\\ntotal of 43 people, 30 contributed to the training set and different 13\\nto the test set. 32x32 bitmaps are divided into nonoverlapping blocks of\\n4x4 and the number of on pixels are counted in each block. This generates\\nan input matrix of 8x8 where each element is an integer in the range\\n0..16. This reduces dimensionality and gives invariance to small\\ndistortions.\\n\\nFor info on NIST preprocessing routines, see M. D. Garris, J. L. Blue, G.\\nT. Candela, D. L. Dimmick, J. Geist, P. J. Grother, S. A. Janet, and C.\\nL. Wilson, NIST Form-Based Handprint Recognition System, NISTIR 5469,\\n1994.\\n\\nReferences\\n----------\\n  - C. Kaynak (1995) Methods of Combining Multiple Classifiers and Their\\n    Applications to Handwritten Digit Recognition, MSc Thesis, Institute of\\n    Graduate Studies in Science and Engineering, Bogazici University.\\n  - E. Alpaydin, C. Kaynak (1998) Cascading Classifiers, Kybernetika.\\n  - Ken Tang and Ponnuthurai N. Suganthan and Xi Yao and A. Kai Qin.\\n    Linear dimensionalityreduction using relevance weighted LDA. School of\\n    Electrical and Electronic Engineering Nanyang Technological University.\\n    2005.\\n  - Claudio Gentile. A New Approximate Maximal Margin Classification\\n    Algorithm. NIPS. 2000.\\n\",\n",
       " 'data': array([[  0.,   0.,   5., ...,   0.,   0.,   0.],\n",
       "        [  0.,   0.,   0., ...,  10.,   0.,   0.],\n",
       "        [  0.,   0.,   0., ...,  16.,   9.,   0.],\n",
       "        ..., \n",
       "        [  0.,   0.,   1., ...,   6.,   0.,   0.],\n",
       "        [  0.,   0.,   2., ...,  12.,   0.,   0.],\n",
       "        [  0.,   0.,  10., ...,  12.,   1.,   0.]]),\n",
       " 'images': array([[[  0.,   0.,   5., ...,   1.,   0.,   0.],\n",
       "         [  0.,   0.,  13., ...,  15.,   5.,   0.],\n",
       "         [  0.,   3.,  15., ...,  11.,   8.,   0.],\n",
       "         ..., \n",
       "         [  0.,   4.,  11., ...,  12.,   7.,   0.],\n",
       "         [  0.,   2.,  14., ...,  12.,   0.,   0.],\n",
       "         [  0.,   0.,   6., ...,   0.,   0.,   0.]],\n",
       " \n",
       "        [[  0.,   0.,   0., ...,   5.,   0.,   0.],\n",
       "         [  0.,   0.,   0., ...,   9.,   0.,   0.],\n",
       "         [  0.,   0.,   3., ...,   6.,   0.,   0.],\n",
       "         ..., \n",
       "         [  0.,   0.,   1., ...,   6.,   0.,   0.],\n",
       "         [  0.,   0.,   1., ...,   6.,   0.,   0.],\n",
       "         [  0.,   0.,   0., ...,  10.,   0.,   0.]],\n",
       " \n",
       "        [[  0.,   0.,   0., ...,  12.,   0.,   0.],\n",
       "         [  0.,   0.,   3., ...,  14.,   0.,   0.],\n",
       "         [  0.,   0.,   8., ...,  16.,   0.,   0.],\n",
       "         ..., \n",
       "         [  0.,   9.,  16., ...,   0.,   0.,   0.],\n",
       "         [  0.,   3.,  13., ...,  11.,   5.,   0.],\n",
       "         [  0.,   0.,   0., ...,  16.,   9.,   0.]],\n",
       " \n",
       "        ..., \n",
       "        [[  0.,   0.,   1., ...,   1.,   0.,   0.],\n",
       "         [  0.,   0.,  13., ...,   2.,   1.,   0.],\n",
       "         [  0.,   0.,  16., ...,  16.,   5.,   0.],\n",
       "         ..., \n",
       "         [  0.,   0.,  16., ...,  15.,   0.,   0.],\n",
       "         [  0.,   0.,  15., ...,  16.,   0.,   0.],\n",
       "         [  0.,   0.,   2., ...,   6.,   0.,   0.]],\n",
       " \n",
       "        [[  0.,   0.,   2., ...,   0.,   0.,   0.],\n",
       "         [  0.,   0.,  14., ...,  15.,   1.,   0.],\n",
       "         [  0.,   4.,  16., ...,  16.,   7.,   0.],\n",
       "         ..., \n",
       "         [  0.,   0.,   0., ...,  16.,   2.,   0.],\n",
       "         [  0.,   0.,   4., ...,  16.,   2.,   0.],\n",
       "         [  0.,   0.,   5., ...,  12.,   0.,   0.]],\n",
       " \n",
       "        [[  0.,   0.,  10., ...,   1.,   0.,   0.],\n",
       "         [  0.,   2.,  16., ...,   1.,   0.,   0.],\n",
       "         [  0.,   0.,  15., ...,  15.,   0.,   0.],\n",
       "         ..., \n",
       "         [  0.,   4.,  16., ...,  16.,   6.,   0.],\n",
       "         [  0.,   8.,  16., ...,  16.,   8.,   0.],\n",
       "         [  0.,   1.,   8., ...,  12.,   1.,   0.]]]),\n",
       " 'target': array([0, 1, 2, ..., 8, 9, 8]),\n",
       " 'target_names': array([0, 1, 2, 3, 4, 5, 6, 7, 8, 9])}"
      ]
     },
     "execution_count": 42,
     "metadata": {},
     "output_type": "execute_result"
    }
   ],
   "source": [
    "digits = load_digits()\n",
    "digits"
   ]
  },
  {
   "cell_type": "code",
   "execution_count": 47,
   "metadata": {
    "collapsed": true
   },
   "outputs": [],
   "source": [
    "X = digits['data']\n",
    "y = digits['target']\n",
    "X_train, X_test, y_train, y_test = train_test_split(X, y, random_state = 0)"
   ]
  },
  {
   "cell_type": "code",
   "execution_count": 37,
   "metadata": {},
   "outputs": [
    {
     "data": {
      "text/plain": [
       "((1797, 64), (1797, 8, 8))"
      ]
     },
     "execution_count": 37,
     "metadata": {},
     "output_type": "execute_result"
    }
   ],
   "source": [
    "X.shape, digits['images'].shape"
   ]
  },
  {
   "cell_type": "code",
   "execution_count": 46,
   "metadata": {},
   "outputs": [
    {
     "data": {
      "text/plain": [
       "(1347,)"
      ]
     },
     "execution_count": 46,
     "metadata": {},
     "output_type": "execute_result"
    }
   ],
   "source": [
    "X_test.shape"
   ]
  },
  {
   "cell_type": "code",
   "execution_count": 24,
   "metadata": {},
   "outputs": [
    {
     "data": {
      "image/png": "[encoded data removed]",
      "text/plain": [
       "<matplotlib.figure.Figure at 0x11c649e80>"
      ]
     },
     "metadata": {},
     "output_type": "display_data"
    }
   ],
   "source": [
    "for i in range(0, 9):\n",
    "    plt.subplot(330 + 1 + i)\n",
    "    plt.imshow(toimage(digits['images'][i]))\n",
    "plt.show()"
   ]
  },
  {
   "cell_type": "code",
   "execution_count": 48,
   "metadata": {},
   "outputs": [
    {
     "data": {
      "text/plain": [
       "0.97999999999999998"
      ]
     },
     "execution_count": 48,
     "metadata": {},
     "output_type": "execute_result"
    }
   ],
   "source": [
    "knn = KNeighborsClassifier()\n",
    "knn.fit(X_train, y_train)\n",
    "knn.score(X_test, y_test)"
   ]
  },
  {
   "cell_type": "code",
   "execution_count": 54,
   "metadata": {},
   "outputs": [
    {
     "data": {
      "application/javascript": [
       "/* Put everything inside the global mpl namespace */\n",
       "window.mpl = {};\n",
       "\n",
       "\n",
       "mpl.get_websocket_type = function() {\n",
       "    if (typeof(WebSocket) !== 'undefined') {\n",
       "        return WebSocket;\n",
       "    } else if (typeof(MozWebSocket) !== 'undefined') {\n",
       "        return MozWebSocket;\n",
       "    } else {\n",
       "        alert('Your browser does not have WebSocket support.' +\n",
       "              'Please try Chrome, Safari or Firefox ≥ 6. ' +\n",
       "              'Firefox 4 and 5 are also supported but you ' +\n",
       "              'have to enable WebSockets in about:config.');\n",
       "    };\n",
       "}\n",
       "\n",
       "mpl.figure = function(figure_id, websocket, ondownload, parent_element) {\n",
       "    this.id = figure_id;\n",
       "\n",
       "    this.ws = websocket;\n",
       "\n",
       "    this.supports_binary = (this.ws.binaryType != undefined);\n",
       "\n",
       "    if (!this.supports_binary) {\n",
       "        var warnings = document.getElementById(\"mpl-warnings\");\n",
       "        if (warnings) {\n",
       "            warnings.style.display = 'block';\n",
       "            warnings.textContent = (\n",
       "                \"This browser does not support binary websocket messages. \" +\n",
       "                    \"Performance may be slow.\");\n",
       "        }\n",
       "    }\n",
       "\n",
       "    this.imageObj = new Image();\n",
       "\n",
       "    this.context = undefined;\n",
       "    this.message = undefined;\n",
       "    this.canvas = undefined;\n",
       "    this.rubberband_canvas = undefined;\n",
       "    this.rubberband_context = undefined;\n",
       "    this.format_dropdown = undefined;\n",
       "\n",
       "    this.image_mode = 'full';\n",
       "\n",
       "    this.root = $('<div/>');\n",
       "    this._root_extra_style(this.root)\n",
       "    this.root.attr('style', 'display: inline-block');\n",
       "\n",
       "    $(parent_element).append(this.root);\n",
       "\n",
       "    this._init_header(this);\n",
       "    this._init_canvas(this);\n",
       "    this._init_toolbar(this);\n",
       "\n",
       "    var fig = this;\n",
       "\n",
       "    this.waiting = false;\n",
       "\n",
       "    this.ws.onopen =  function () {\n",
       "            fig.send_message(\"supports_binary\", {value: fig.supports_binary});\n",
       "            fig.send_message(\"send_image_mode\", {});\n",
       "            if (mpl.ratio != 1) {\n",
       "                fig.send_message(\"set_dpi_ratio\", {'dpi_ratio': mpl.ratio});\n",
       "            }\n",
       "            fig.send_message(\"refresh\", {});\n",
       "        }\n",
       "\n",
       "    this.imageObj.onload = function() {\n",
       "            if (fig.image_mode == 'full') {\n",
       "                // Full images could contain transparency (where diff images\n",
       "                // almost always do), so we need to clear the canvas so that\n",
       "                // there is no ghosting.\n",
       "                fig.context.clearRect(0, 0, fig.canvas.width, fig.canvas.height);\n",
       "            }\n",
       "            fig.context.drawImage(fig.imageObj, 0, 0);\n",
       "        };\n",
       "\n",
       "    this.imageObj.onunload = function() {\n",
       "        this.ws.close();\n",
       "    }\n",
       "\n",
       "    this.ws.onmessage = this._make_on_message_function(this);\n",
       "\n",
       "    this.ondownload = ondownload;\n",
       "}\n",
       "\n",
       "mpl.figure.prototype._init_header = function() {\n",
       "    var titlebar = $(\n",
       "        '<div class=\"ui-dialog-titlebar ui-widget-header ui-corner-all ' +\n",
       "        'ui-helper-clearfix\"/>');\n",
       "    var titletext = $(\n",
       "        '<div class=\"ui-dialog-title\" style=\"width: 100%; ' +\n",
       "        'text-align: center; padding: 3px;\"/>');\n",
       "    titlebar.append(titletext)\n",
       "    this.root.append(titlebar);\n",
       "    this.header = titletext[0];\n",
       "}\n",
       "\n",
       "\n",
       "\n",
       "mpl.figure.prototype._canvas_extra_style = function(canvas_div) {\n",
       "\n",
       "}\n",
       "\n",
       "\n",
       "mpl.figure.prototype._root_extra_style = function(canvas_div) {\n",
       "\n",
       "}\n",
       "\n",
       "mpl.figure.prototype._init_canvas = function() {\n",
       "    var fig = this;\n",
       "\n",
       "    var canvas_div = $('<div/>');\n",
       "\n",
       "    canvas_div.attr('style', 'position: relative; clear: both; outline: 0');\n",
       "\n",
       "    function canvas_keyboard_event(event) {\n",
       "        return fig.key_event(event, event['data']);\n",
       "    }\n",
       "\n",
       "    canvas_div.keydown('key_press', canvas_keyboard_event);\n",
       "    canvas_div.keyup('key_release', canvas_keyboard_event);\n",
       "    this.canvas_div = canvas_div\n",
       "    this._canvas_extra_style(canvas_div)\n",
       "    this.root.append(canvas_div);\n",
       "\n",
       "    var canvas = $('<canvas/>');\n",
       "    canvas.addClass('mpl-canvas');\n",
       "    canvas.attr('style', \"left: 0; top: 0; z-index: 0; outline: 0\")\n",
       "\n",
       "    this.canvas = canvas[0];\n",
       "    this.context = canvas[0].getContext(\"2d\");\n",
       "\n",
       "    var backingStore = this.context.backingStorePixelRatio ||\n",
       "\tthis.context.webkitBackingStorePixelRatio ||\n",
       "\tthis.context.mozBackingStorePixelRatio ||\n",
       "\tthis.context.msBackingStorePixelRatio ||\n",
       "\tthis.context.oBackingStorePixelRatio ||\n",
       "\tthis.context.backingStorePixelRatio || 1;\n",
       "\n",
       "    mpl.ratio = (window.devicePixelRatio || 1) / backingStore;\n",
       "\n",
       "    var rubberband = $('<canvas/>');\n",
       "    rubberband.attr('style', \"position: absolute; left: 0; top: 0; z-index: 1;\")\n",
       "\n",
       "    var pass_mouse_events = true;\n",
       "\n",
       "    canvas_div.resizable({\n",
       "        start: function(event, ui) {\n",
       "            pass_mouse_events = false;\n",
       "        },\n",
       "        resize: function(event, ui) {\n",
       "            fig.request_resize(ui.size.width, ui.size.height);\n",
       "        },\n",
       "        stop: function(event, ui) {\n",
       "            pass_mouse_events = true;\n",
       "            fig.request_resize(ui.size.width, ui.size.height);\n",
       "        },\n",
       "    });\n",
       "\n",
       "    function mouse_event_fn(event) {\n",
       "        if (pass_mouse_events)\n",
       "            return fig.mouse_event(event, event['data']);\n",
       "    }\n",
       "\n",
       "    rubberband.mousedown('button_press', mouse_event_fn);\n",
       "    rubberband.mouseup('button_release', mouse_event_fn);\n",
       "    // Throttle sequential mouse events to 1 every 20ms.\n",
       "    rubberband.mousemove('motion_notify', mouse_event_fn);\n",
       "\n",
       "    rubberband.mouseenter('figure_enter', mouse_event_fn);\n",
       "    rubberband.mouseleave('figure_leave', mouse_event_fn);\n",
       "\n",
       "    canvas_div.on(\"wheel\", function (event) {\n",
       "        event = event.originalEvent;\n",
       "        event['data'] = 'scroll'\n",
       "        if (event.deltaY < 0) {\n",
       "            event.step = 1;\n",
       "        } else {\n",
       "            event.step = -1;\n",
       "        }\n",
       "        mouse_event_fn(event);\n",
       "    });\n",
       "\n",
       "    canvas_div.append(canvas);\n",
       "    canvas_div.append(rubberband);\n",
       "\n",
       "    this.rubberband = rubberband;\n",
       "    this.rubberband_canvas = rubberband[0];\n",
       "    this.rubberband_context = rubberband[0].getContext(\"2d\");\n",
       "    this.rubberband_context.strokeStyle = \"#000000\";\n",
       "\n",
       "    this._resize_canvas = function(width, height) {\n",
       "        // Keep the size of the canvas, canvas container, and rubber band\n",
       "        // canvas in synch.\n",
       "        canvas_div.css('width', width)\n",
       "        canvas_div.css('height', height)\n",
       "\n",
       "        canvas.attr('width', width * mpl.ratio);\n",
       "        canvas.attr('height', height * mpl.ratio);\n",
       "        canvas.attr('style', 'width: ' + width + 'px; height: ' + height + 'px;');\n",
       "\n",
       "        rubberband.attr('width', width);\n",
       "        rubberband.attr('height', height);\n",
       "    }\n",
       "\n",
       "    // Set the figure to an initial 600x600px, this will subsequently be updated\n",
       "    // upon first draw.\n",
       "    this._resize_canvas(600, 600);\n",
       "\n",
       "    // Disable right mouse context menu.\n",
       "    $(this.rubberband_canvas).bind(\"contextmenu\",function(e){\n",
       "        return false;\n",
       "    });\n",
       "\n",
       "    function set_focus () {\n",
       "        canvas.focus();\n",
       "        canvas_div.focus();\n",
       "    }\n",
       "\n",
       "    window.setTimeout(set_focus, 100);\n",
       "}\n",
       "\n",
       "mpl.figure.prototype._init_toolbar = function() {\n",
       "    var fig = this;\n",
       "\n",
       "    var nav_element = $('<div/>')\n",
       "    nav_element.attr('style', 'width: 100%');\n",
       "    this.root.append(nav_element);\n",
       "\n",
       "    // Define a callback function for later on.\n",
       "    function toolbar_event(event) {\n",
       "        return fig.toolbar_button_onclick(event['data']);\n",
       "    }\n",
       "    function toolbar_mouse_event(event) {\n",
       "        return fig.toolbar_button_onmouseover(event['data']);\n",
       "    }\n",
       "\n",
       "    for(var toolbar_ind in mpl.toolbar_items) {\n",
       "        var name = mpl.toolbar_items[toolbar_ind][0];\n",
       "        var tooltip = mpl.toolbar_items[toolbar_ind][1];\n",
       "        var image = mpl.toolbar_items[toolbar_ind][2];\n",
       "        var method_name = mpl.toolbar_items[toolbar_ind][3];\n",
       "\n",
       "        if (!name) {\n",
       "            // put a spacer in here.\n",
       "            continue;\n",
       "        }\n",
       "        var button = $('<button/>');\n",
       "        button.addClass('ui-button ui-widget ui-state-default ui-corner-all ' +\n",
       "                        'ui-button-icon-only');\n",
       "        button.attr('role', 'button');\n",
       "        button.attr('aria-disabled', 'false');\n",
       "        button.click(method_name, toolbar_event);\n",
       "        button.mouseover(tooltip, toolbar_mouse_event);\n",
       "\n",
       "        var icon_img = $('<span/>');\n",
       "        icon_img.addClass('ui-button-icon-primary ui-icon');\n",
       "        icon_img.addClass(image);\n",
       "        icon_img.addClass('ui-corner-all');\n",
       "\n",
       "        var tooltip_span = $('<span/>');\n",
       "        tooltip_span.addClass('ui-button-text');\n",
       "        tooltip_span.html(tooltip);\n",
       "\n",
       "        button.append(icon_img);\n",
       "        button.append(tooltip_span);\n",
       "\n",
       "        nav_element.append(button);\n",
       "    }\n",
       "\n",
       "    var fmt_picker_span = $('<span/>');\n",
       "\n",
       "    var fmt_picker = $('<select/>');\n",
       "    fmt_picker.addClass('mpl-toolbar-option ui-widget ui-widget-content');\n",
       "    fmt_picker_span.append(fmt_picker);\n",
       "    nav_element.append(fmt_picker_span);\n",
       "    this.format_dropdown = fmt_picker[0];\n",
       "\n",
       "    for (var ind in mpl.extensions) {\n",
       "        var fmt = mpl.extensions[ind];\n",
       "        var option = $(\n",
       "            '<option/>', {selected: fmt === mpl.default_extension}).html(fmt);\n",
       "        fmt_picker.append(option)\n",
       "    }\n",
       "\n",
       "    // Add hover states to the ui-buttons\n",
       "    $( \".ui-button\" ).hover(\n",
       "        function() { $(this).addClass(\"ui-state-hover\");},\n",
       "        function() { $(this).removeClass(\"ui-state-hover\");}\n",
       "    );\n",
       "\n",
       "    var status_bar = $('<span class=\"mpl-message\"/>');\n",
       "    nav_element.append(status_bar);\n",
       "    this.message = status_bar[0];\n",
       "}\n",
       "\n",
       "mpl.figure.prototype.request_resize = function(x_pixels, y_pixels) {\n",
       "    // Request matplotlib to resize the figure. Matplotlib will then trigger a resize in the client,\n",
       "    // which will in turn request a refresh of the image.\n",
       "    this.send_message('resize', {'width': x_pixels, 'height': y_pixels});\n",
       "}\n",
       "\n",
       "mpl.figure.prototype.send_message = function(type, properties) {\n",
       "    properties['type'] = type;\n",
       "    properties['figure_id'] = this.id;\n",
       "    this.ws.send(JSON.stringify(properties));\n",
       "}\n",
       "\n",
       "mpl.figure.prototype.send_draw_message = function() {\n",
       "    if (!this.waiting) {\n",
       "        this.waiting = true;\n",
       "        this.ws.send(JSON.stringify({type: \"draw\", figure_id: this.id}));\n",
       "    }\n",
       "}\n",
       "\n",
       "\n",
       "mpl.figure.prototype.handle_save = function(fig, msg) {\n",
       "    var format_dropdown = fig.format_dropdown;\n",
       "    var format = format_dropdown.options[format_dropdown.selectedIndex].value;\n",
       "    fig.ondownload(fig, format);\n",
       "}\n",
       "\n",
       "\n",
       "mpl.figure.prototype.handle_resize = function(fig, msg) {\n",
       "    var size = msg['size'];\n",
       "    if (size[0] != fig.canvas.width || size[1] != fig.canvas.height) {\n",
       "        fig._resize_canvas(size[0], size[1]);\n",
       "        fig.send_message(\"refresh\", {});\n",
       "    };\n",
       "}\n",
       "\n",
       "mpl.figure.prototype.handle_rubberband = function(fig, msg) {\n",
       "    var x0 = msg['x0'] / mpl.ratio;\n",
       "    var y0 = (fig.canvas.height - msg['y0']) / mpl.ratio;\n",
       "    var x1 = msg['x1'] / mpl.ratio;\n",
       "    var y1 = (fig.canvas.height - msg['y1']) / mpl.ratio;\n",
       "    x0 = Math.floor(x0) + 0.5;\n",
       "    y0 = Math.floor(y0) + 0.5;\n",
       "    x1 = Math.floor(x1) + 0.5;\n",
       "    y1 = Math.floor(y1) + 0.5;\n",
       "    var min_x = Math.min(x0, x1);\n",
       "    var min_y = Math.min(y0, y1);\n",
       "    var width = Math.abs(x1 - x0);\n",
       "    var height = Math.abs(y1 - y0);\n",
       "\n",
       "    fig.rubberband_context.clearRect(\n",
       "        0, 0, fig.canvas.width, fig.canvas.height);\n",
       "\n",
       "    fig.rubberband_context.strokeRect(min_x, min_y, width, height);\n",
       "}\n",
       "\n",
       "mpl.figure.prototype.handle_figure_label = function(fig, msg) {\n",
       "    // Updates the figure title.\n",
       "    fig.header.textContent = msg['label'];\n",
       "}\n",
       "\n",
       "mpl.figure.prototype.handle_cursor = function(fig, msg) {\n",
       "    var cursor = msg['cursor'];\n",
       "    switch(cursor)\n",
       "    {\n",
       "    case 0:\n",
       "        cursor = 'pointer';\n",
       "        break;\n",
       "    case 1:\n",
       "        cursor = 'default';\n",
       "        break;\n",
       "    case 2:\n",
       "        cursor = 'crosshair';\n",
       "        break;\n",
       "    case 3:\n",
       "        cursor = 'move';\n",
       "        break;\n",
       "    }\n",
       "    fig.rubberband_canvas.style.cursor = cursor;\n",
       "}\n",
       "\n",
       "mpl.figure.prototype.handle_message = function(fig, msg) {\n",
       "    fig.message.textContent = msg['message'];\n",
       "}\n",
       "\n",
       "mpl.figure.prototype.handle_draw = function(fig, msg) {\n",
       "    // Request the server to send over a new figure.\n",
       "    fig.send_draw_message();\n",
       "}\n",
       "\n",
       "mpl.figure.prototype.handle_image_mode = function(fig, msg) {\n",
       "    fig.image_mode = msg['mode'];\n",
       "}\n",
       "\n",
       "mpl.figure.prototype.updated_canvas_event = function() {\n",
       "    // Called whenever the canvas gets updated.\n",
       "    this.send_message(\"ack\", {});\n",
       "}\n",
       "\n",
       "// A function to construct a web socket function for onmessage handling.\n",
       "// Called in the figure constructor.\n",
       "mpl.figure.prototype._make_on_message_function = function(fig) {\n",
       "    return function socket_on_message(evt) {\n",
       "        if (evt.data instanceof Blob) {\n",
       "            /* FIXME: We get \"Resource interpreted as Image but\n",
       "             * transferred with MIME type text/plain:\" errors on\n",
       "             * Chrome.  But how to set the MIME type?  It doesn't seem\n",
       "             * to be part of the websocket stream */\n",
       "            evt.data.type = \"image/png\";\n",
       "\n",
       "            /* Free the memory for the previous frames */\n",
       "            if (fig.imageObj.src) {\n",
       "                (window.URL || window.webkitURL).revokeObjectURL(\n",
       "                    fig.imageObj.src);\n",
       "            }\n",
       "\n",
       "            fig.imageObj.src = (window.URL || window.webkitURL).createObjectURL(\n",
       "                evt.data);\n",
       "            fig.updated_canvas_event();\n",
       "            fig.waiting = false;\n",
       "            return;\n",
       "        }\n",
       "        else if (typeof evt.data === 'string' && evt.data.slice(0, 21) == \"data:image/png;base64\") {\n",
       "            fig.imageObj.src = evt.data;\n",
       "            fig.updated_canvas_event();\n",
       "            fig.waiting = false;\n",
       "            return;\n",
       "        }\n",
       "\n",
       "        var msg = JSON.parse(evt.data);\n",
       "        var msg_type = msg['type'];\n",
       "\n",
       "        // Call the  \"handle_{type}\" callback, which takes\n",
       "        // the figure and JSON message as its only arguments.\n",
       "        try {\n",
       "            var callback = fig[\"handle_\" + msg_type];\n",
       "        } catch (e) {\n",
       "            console.log(\"No handler for the '\" + msg_type + \"' message type: \", msg);\n",
       "            return;\n",
       "        }\n",
       "\n",
       "        if (callback) {\n",
       "            try {\n",
       "                // console.log(\"Handling '\" + msg_type + \"' message: \", msg);\n",
       "                callback(fig, msg);\n",
       "            } catch (e) {\n",
       "                console.log(\"Exception inside the 'handler_\" + msg_type + \"' callback:\", e, e.stack, msg);\n",
       "            }\n",
       "        }\n",
       "    };\n",
       "}\n",
       "\n",
       "// from http://stackoverflow.com/questions/1114465/getting-mouse-location-in-canvas\n",
       "mpl.findpos = function(e) {\n",
       "    //this section is from http://www.quirksmode.org/js/events_properties.html\n",
       "    var targ;\n",
       "    if (!e)\n",
       "        e = window.event;\n",
       "    if (e.target)\n",
       "        targ = e.target;\n",
       "    else if (e.srcElement)\n",
       "        targ = e.srcElement;\n",
       "    if (targ.nodeType == 3) // defeat Safari bug\n",
       "        targ = targ.parentNode;\n",
       "\n",
       "    // jQuery normalizes the pageX and pageY\n",
       "    // pageX,Y are the mouse positions relative to the document\n",
       "    // offset() returns the position of the element relative to the document\n",
       "    var x = e.pageX - $(targ).offset().left;\n",
       "    var y = e.pageY - $(targ).offset().top;\n",
       "\n",
       "    return {\"x\": x, \"y\": y};\n",
       "};\n",
       "\n",
       "/*\n",
       " * return a copy of an object with only non-object keys\n",
       " * we need this to avoid circular references\n",
       " * http://stackoverflow.com/a/24161582/3208463\n",
       " */\n",
       "function simpleKeys (original) {\n",
       "  return Object.keys(original).reduce(function (obj, key) {\n",
       "    if (typeof original[key] !== 'object')\n",
       "        obj[key] = original[key]\n",
       "    return obj;\n",
       "  }, {});\n",
       "}\n",
       "\n",
       "mpl.figure.prototype.mouse_event = function(event, name) {\n",
       "    var canvas_pos = mpl.findpos(event)\n",
       "\n",
       "    if (name === 'button_press')\n",
       "    {\n",
       "        this.canvas.focus();\n",
       "        this.canvas_div.focus();\n",
       "    }\n",
       "\n",
       "    var x = canvas_pos.x * mpl.ratio;\n",
       "    var y = canvas_pos.y * mpl.ratio;\n",
       "\n",
       "    this.send_message(name, {x: x, y: y, button: event.button,\n",
       "                             step: event.step,\n",
       "                             guiEvent: simpleKeys(event)});\n",
       "\n",
       "    /* This prevents the web browser from automatically changing to\n",
       "     * the text insertion cursor when the button is pressed.  We want\n",
       "     * to control all of the cursor setting manually through the\n",
       "     * 'cursor' event from matplotlib */\n",
       "    event.preventDefault();\n",
       "    return false;\n",
       "}\n",
       "\n",
       "mpl.figure.prototype._key_event_extra = function(event, name) {\n",
       "    // Handle any extra behaviour associated with a key event\n",
       "}\n",
       "\n",
       "mpl.figure.prototype.key_event = function(event, name) {\n",
       "\n",
       "    // Prevent repeat events\n",
       "    if (name == 'key_press')\n",
       "    {\n",
       "        if (event.which === this._key)\n",
       "            return;\n",
       "        else\n",
       "            this._key = event.which;\n",
       "    }\n",
       "    if (name == 'key_release')\n",
       "        this._key = null;\n",
       "\n",
       "    var value = '';\n",
       "    if (event.ctrlKey && event.which != 17)\n",
       "        value += \"ctrl+\";\n",
       "    if (event.altKey && event.which != 18)\n",
       "        value += \"alt+\";\n",
       "    if (event.shiftKey && event.which != 16)\n",
       "        value += \"shift+\";\n",
       "\n",
       "    value += 'k';\n",
       "    value += event.which.toString();\n",
       "\n",
       "    this._key_event_extra(event, name);\n",
       "\n",
       "    this.send_message(name, {key: value,\n",
       "                             guiEvent: simpleKeys(event)});\n",
       "    return false;\n",
       "}\n",
       "\n",
       "mpl.figure.prototype.toolbar_button_onclick = function(name) {\n",
       "    if (name == 'download') {\n",
       "        this.handle_save(this, null);\n",
       "    } else {\n",
       "        this.send_message(\"toolbar_button\", {name: name});\n",
       "    }\n",
       "};\n",
       "\n",
       "mpl.figure.prototype.toolbar_button_onmouseover = function(tooltip) {\n",
       "    this.message.textContent = tooltip;\n",
       "};\n",
       "mpl.toolbar_items = [[\"Home\", \"Reset original view\", \"fa fa-home icon-home\", \"home\"], [\"Back\", \"Back to  previous view\", \"fa fa-arrow-left icon-arrow-left\", \"back\"], [\"Forward\", \"Forward to next view\", \"fa fa-arrow-right icon-arrow-right\", \"forward\"], [\"\", \"\", \"\", \"\"], [\"Pan\", \"Pan axes with left mouse, zoom with right\", \"fa fa-arrows icon-move\", \"pan\"], [\"Zoom\", \"Zoom to rectangle\", \"fa fa-square-o icon-check-empty\", \"zoom\"], [\"\", \"\", \"\", \"\"], [\"Download\", \"Download plot\", \"fa fa-floppy-o icon-save\", \"download\"]];\n",
       "\n",
       "mpl.extensions = [\"eps\", \"jpeg\", \"pdf\", \"png\", \"ps\", \"raw\", \"svg\", \"tif\"];\n",
       "\n",
       "mpl.default_extension = \"png\";var comm_websocket_adapter = function(comm) {\n",
       "    // Create a \"websocket\"-like object which calls the given IPython comm\n",
       "    // object with the appropriate methods. Currently this is a non binary\n",
       "    // socket, so there is still some room for performance tuning.\n",
       "    var ws = {};\n",
       "\n",
       "    ws.close = function() {\n",
       "        comm.close()\n",
       "    };\n",
       "    ws.send = function(m) {\n",
       "        //console.log('sending', m);\n",
       "        comm.send(m);\n",
       "    };\n",
       "    // Register the callback with on_msg.\n",
       "    comm.on_msg(function(msg) {\n",
       "        //console.log('receiving', msg['content']['data'], msg);\n",
       "        // Pass the mpl event to the overriden (by mpl) onmessage function.\n",
       "        ws.onmessage(msg['content']['data'])\n",
       "    });\n",
       "    return ws;\n",
       "}\n",
       "\n",
       "mpl.mpl_figure_comm = function(comm, msg) {\n",
       "    // This is the function which gets called when the mpl process\n",
       "    // starts-up an IPython Comm through the \"matplotlib\" channel.\n",
       "\n",
       "    var id = msg.content.data.id;\n",
       "    // Get hold of the div created by the display call when the Comm\n",
       "    // socket was opened in Python.\n",
       "    var element = $(\"#\" + id);\n",
       "    var ws_proxy = comm_websocket_adapter(comm)\n",
       "\n",
       "    function ondownload(figure, format) {\n",
       "        window.open(figure.imageObj.src);\n",
       "    }\n",
       "\n",
       "    var fig = new mpl.figure(id, ws_proxy,\n",
       "                           ondownload,\n",
       "                           element.get(0));\n",
       "\n",
       "    // Call onopen now - mpl needs it, as it is assuming we've passed it a real\n",
       "    // web socket which is closed, not our websocket->open comm proxy.\n",
       "    ws_proxy.onopen();\n",
       "\n",
       "    fig.parent_element = element.get(0);\n",
       "    fig.cell_info = mpl.find_output_cell(\"<div id='\" + id + \"'></div>\");\n",
       "    if (!fig.cell_info) {\n",
       "        console.error(\"Failed to find cell for figure\", id, fig);\n",
       "        return;\n",
       "    }\n",
       "\n",
       "    var output_index = fig.cell_info[2]\n",
       "    var cell = fig.cell_info[0];\n",
       "\n",
       "};\n",
       "\n",
       "mpl.figure.prototype.handle_close = function(fig, msg) {\n",
       "    var width = fig.canvas.width/mpl.ratio\n",
       "    fig.root.unbind('remove')\n",
       "\n",
       "    // Update the output cell to use the data from the current canvas.\n",
       "    fig.push_to_output();\n",
       "    var dataURL = fig.canvas.toDataURL();\n",
       "    // Re-enable the keyboard manager in IPython - without this line, in FF,\n",
       "    // the notebook keyboard shortcuts fail.\n",
       "    IPython.keyboard_manager.enable()\n",
       "    $(fig.parent_element).html('<img src=\"' + dataURL + '\" width=\"' + width + '\">');\n",
       "    fig.close_ws(fig, msg);\n",
       "}\n",
       "\n",
       "mpl.figure.prototype.close_ws = function(fig, msg){\n",
       "    fig.send_message('closing', msg);\n",
       "    // fig.ws.close()\n",
       "}\n",
       "\n",
       "mpl.figure.prototype.push_to_output = function(remove_interactive) {\n",
       "    // Turn the data on the canvas into data in the output cell.\n",
       "    var width = this.canvas.width/mpl.ratio\n",
       "    var dataURL = this.canvas.toDataURL();\n",
       "    this.cell_info[1]['text/html'] = '<img src=\"' + dataURL + '\" width=\"' + width + '\">';\n",
       "}\n",
       "\n",
       "mpl.figure.prototype.updated_canvas_event = function() {\n",
       "    // Tell IPython that the notebook contents must change.\n",
       "    IPython.notebook.set_dirty(true);\n",
       "    this.send_message(\"ack\", {});\n",
       "    var fig = this;\n",
       "    // Wait a second, then push the new image to the DOM so\n",
       "    // that it is saved nicely (might be nice to debounce this).\n",
       "    setTimeout(function () { fig.push_to_output() }, 1000);\n",
       "}\n",
       "\n",
       "mpl.figure.prototype._init_toolbar = function() {\n",
       "    var fig = this;\n",
       "\n",
       "    var nav_element = $('<div/>')\n",
       "    nav_element.attr('style', 'width: 100%');\n",
       "    this.root.append(nav_element);\n",
       "\n",
       "    // Define a callback function for later on.\n",
       "    function toolbar_event(event) {\n",
       "        return fig.toolbar_button_onclick(event['data']);\n",
       "    }\n",
       "    function toolbar_mouse_event(event) {\n",
       "        return fig.toolbar_button_onmouseover(event['data']);\n",
       "    }\n",
       "\n",
       "    for(var toolbar_ind in mpl.toolbar_items){\n",
       "        var name = mpl.toolbar_items[toolbar_ind][0];\n",
       "        var tooltip = mpl.toolbar_items[toolbar_ind][1];\n",
       "        var image = mpl.toolbar_items[toolbar_ind][2];\n",
       "        var method_name = mpl.toolbar_items[toolbar_ind][3];\n",
       "\n",
       "        if (!name) { continue; };\n",
       "\n",
       "        var button = $('<button class=\"btn btn-default\" href=\"#\" title=\"' + name + '\"><i class=\"fa ' + image + ' fa-lg\"></i></button>');\n",
       "        button.click(method_name, toolbar_event);\n",
       "        button.mouseover(tooltip, toolbar_mouse_event);\n",
       "        nav_element.append(button);\n",
       "    }\n",
       "\n",
       "    // Add the status bar.\n",
       "    var status_bar = $('<span class=\"mpl-message\" style=\"text-align:right; float: right;\"/>');\n",
       "    nav_element.append(status_bar);\n",
       "    this.message = status_bar[0];\n",
       "\n",
       "    // Add the close button to the window.\n",
       "    var buttongrp = $('<div class=\"btn-group inline pull-right\"></div>');\n",
       "    var button = $('<button class=\"btn btn-mini btn-primary\" href=\"#\" title=\"Stop Interaction\"><i class=\"fa fa-power-off icon-remove icon-large\"></i></button>');\n",
       "    button.click(function (evt) { fig.handle_close(fig, {}); } );\n",
       "    button.mouseover('Stop Interaction', toolbar_mouse_event);\n",
       "    buttongrp.append(button);\n",
       "    var titlebar = this.root.find($('.ui-dialog-titlebar'));\n",
       "    titlebar.prepend(buttongrp);\n",
       "}\n",
       "\n",
       "mpl.figure.prototype._root_extra_style = function(el){\n",
       "    var fig = this\n",
       "    el.on(\"remove\", function(){\n",
       "\tfig.close_ws(fig, {});\n",
       "    });\n",
       "}\n",
       "\n",
       "mpl.figure.prototype._canvas_extra_style = function(el){\n",
       "    // this is important to make the div 'focusable\n",
       "    el.attr('tabindex', 0)\n",
       "    // reach out to IPython and tell the keyboard manager to turn it's self\n",
       "    // off when our div gets focus\n",
       "\n",
       "    // location in version 3\n",
       "    if (IPython.notebook.keyboard_manager) {\n",
       "        IPython.notebook.keyboard_manager.register_events(el);\n",
       "    }\n",
       "    else {\n",
       "        // location in version 2\n",
       "        IPython.keyboard_manager.register_events(el);\n",
       "    }\n",
       "\n",
       "}\n",
       "\n",
       "mpl.figure.prototype._key_event_extra = function(event, name) {\n",
       "    var manager = IPython.notebook.keyboard_manager;\n",
       "    if (!manager)\n",
       "        manager = IPython.keyboard_manager;\n",
       "\n",
       "    // Check for shift+enter\n",
       "    if (event.shiftKey && event.which == 13) {\n",
       "        this.canvas_div.blur();\n",
       "        // select the cell after this one\n",
       "        var index = IPython.notebook.find_cell_index(this.cell_info[0]);\n",
       "        IPython.notebook.select(index + 1);\n",
       "    }\n",
       "}\n",
       "\n",
       "mpl.figure.prototype.handle_save = function(fig, msg) {\n",
       "    fig.ondownload(fig, null);\n",
       "}\n",
       "\n",
       "\n",
       "mpl.find_output_cell = function(html_output) {\n",
       "    // Return the cell and output element which can be found *uniquely* in the notebook.\n",
       "    // Note - this is a bit hacky, but it is done because the \"notebook_saving.Notebook\"\n",
       "    // IPython event is triggered only after the cells have been serialised, which for\n",
       "    // our purposes (turning an active figure into a static one), is too late.\n",
       "    var cells = IPython.notebook.get_cells();\n",
       "    var ncells = cells.length;\n",
       "    for (var i=0; i<ncells; i++) {\n",
       "        var cell = cells[i];\n",
       "        if (cell.cell_type === 'code'){\n",
       "            for (var j=0; j<cell.output_area.outputs.length; j++) {\n",
       "                var data = cell.output_area.outputs[j];\n",
       "                if (data.data) {\n",
       "                    // IPython >= 3 moved mimebundle to data attribute of output\n",
       "                    data = data.data;\n",
       "                }\n",
       "                if (data['text/html'] == html_output) {\n",
       "                    return [cell, data, j];\n",
       "                }\n",
       "            }\n",
       "        }\n",
       "    }\n",
       "}\n",
       "\n",
       "// Register the function which deals with the matplotlib target/channel.\n",
       "// The kernel may be null if the page has been refreshed.\n",
       "if (IPython.notebook.kernel != null) {\n",
       "    IPython.notebook.kernel.comm_manager.register_target('matplotlib', mpl.mpl_figure_comm);\n",
       "}\n"
      ],
      "text/plain": [
       "<IPython.core.display.Javascript object>"
      ]
     },
     "metadata": {},
     "output_type": "display_data"
    },
    {
     "data": {
      "text/html": [
       "<img src=\"data:image/png;base64,iVBORw0KGgoAAAANSUhEUgAABQAAAAPACAYAAABq3NR5AAAAAXNSR0IArs4c6QAAQABJREFUeAHs3Qu8XVdZKPq5k7TdtEkDhLKDTSgE2gopUCxgAhTKwXvCEQTlaARplYeH6lEvj57q9eCBqlfPBWkR8UGvCpVUjoYrHoWDtIiIxdtAqRRogD4ILUkl29LSNEnZbUhyvi9dM13d3Y+19157rTXX+I/f79vzNeaYY/zH3mi+zkdVKQQIECBAgAABAgQIECBAgAABAgQIECBAgAABAgQIECBAgAABAgQIECBAgAABAgQIECBAgAABAgQIECBAgAABAgQIECBAgAABAgQIECBAgAABAgQIECBAgAABAgQIECBAgAABAgQIECBAgAABAgQIECBAgAABAgQIECBAgAABAgQIECBAgAABAgQIECBAgAABAgQIECBAgAABAgQIECBAgAABAgQIECBAgAABAgQIECBAgAABAgQIECBAgAABAgQIECBAgAABAgQIECBAgAABAgQIECBAgAABAgQIECBAgAABAgQIECBAgAABAgQIECBAgAABAgQIECBAgAABAgQIECBAgAABAgQIECBAgAABAgQIECBAgAABAgQIECBAgAABAgQIECBAgAABAgQIECBAgAABAgQIECBAgAABAgQIECBAgAABAgQIECBAgAABAgQIECBAgAABAgQIECBAgAABAgQIECBAgAABAgQIECBAgAABAgQIECBAgAABAgQIECBAgAABAgQIECBAgAABAgQIECBAgAABAgQIECBAgAABAgQIECBAgAABAgQIECBAgAABAgQIECBAgAABAgQIECBAgAABAgQIECBAgAABAgQIECBAgAABAgQIECBAgAABAgQIECBAgAABAgQIECBAgAABAgQIECBAgAABAgQIECBAgAABAgQIECBAgAABAgQIECBAgAABAgQIECBAgAABAgQIECBAgAABAgQIECBAgAABAgQIECBAgAABAgQIECBAgAABAgQIECBAgAABAgQIECBAgAABAgQIECBAgAABAgQIECBAgAABAgQIECBAgAABAgQIECBAgAABAgQIECBAgAABAgQIECBAgAABAgQIECBAgAABAgQIECBAgAABAgQIECBAgAABAgQIECBAgAABAgQIECBAgAABAgQIECBAgAABAgQIECBAgAABAgQIECBAgAABAgQIECBAgAABAgQIECBAgAABAgQIECBAgAABAgQIECBAgAABAgQIECBAgAABAgQIECBAgAABAgQIECBAgAABAgQIECBAgAABAgQIECBAgAABAgQIECBAgAABAgQIECBAgAABAgQIECBAgAABAgQIECBAgAABAgQIECBAgAABAgQIECBAgAABAgQIECBAgAABAgQIECBAgAABAgQIECBAgAABAgQIECBAgAABAgQIECBAgAABAgQIECBAgAABAgQIECBAgAABAgQIECBAgAABAgQIECBAgAABAgQIECBAgAABAgQIECBAgAABAgQIECBAgAABAgQIECBAgAABAgQIECBAgAABAgQIECBAgAABAgQIECBAgAABAgQIECBAgAABAgQIECBAgAABAgQIECBAgAABAgQIECBAgAABAgQIECBAgAABAgQIECBAgAABAgQIECBAgAABAgQIECBAgAABAgQIECBAgAABAgQIECBAgAABAgQIECBAgAABAgQIECBAgAABAgQIECBAgAABAgQIECBAgAABAgQIECBAgAABAgQIECBAgAABAgQIECBAgAABAgQIECBAgAABAgQIECBAgAABAgQIECBAgAABAgQIECBAgAABAgQIECBAgAABAgQIECBAgAABAgQIECBAgAABAgQIECBAgAABAgQIECBAgAABAgQIECBAgAABAgQIECBAgAABAgQIECBAgAABAgQIECBAgAABAgQIECBAgAABAgQIECBAgAABAgQIECBAgAABAgQIECBAgAABAgQIECBAgAABAgQIECBAgAABAgQIECBAgAABAgQIECBAgAABAgQIECBAgAABAgQIECBAgAABAgQIECBAgAABAgQIECBAgAABAgQIECBAgAABAgQIECBAgAABAgQIECBAgAABAgQIECBAgAABAgQIECBAgAABAgQIECBAgAABAgQIECBAgAABAgQIECBAgAABAgQIECBAgAABAgQIECBAgAABAgQIECBAgAABAgQIECBAgAABAgQIECBAgAABAgQIECBAgAABAgQIECBAgAABAgQIECBAgAABAgQIECBAgAABAgQIECBAgAABAgQIECBAgAABAgQIECBAgAABAgQIECBAgAABAgQIECBAgAABAgQIECBAgAABAgQIECBAgAABAgQIECBAgAABAgQIECBAgAABAgQIECBAgAABAgQIECBAgAABAgQIECBAgAABAgQIECBAgAABAgQIECBAgAABAgQIECBAgAABAgQIECBAgAABAgQIECBAgAABAgQIECBAgAABAgQIECBAgAABAgQIECBAgAABAgQIECBAgAABAgQIECBAgAABAgQIECBAgAABAgQIECBAgAABAgQIECBAgAABAgQIECBAgAABAgQIECBAgAABAgQIECBAgAABAgQIECBAgAABAgQIECBAgAABAgQIECBAgAABAgQIECBAgAABAgQIECBAgAABAgQIECBAgAABAgQIECBAgAABAgQIECBAgAABAgQIECBAgAABAgQIECBAgAABAgQIECBAgAABAgQIECBAgAABAgQIECBAgAABAgQIECBAgAABAgQIECBAgAABAgQIECBAgAABAgQIECBAgAABAgQIECBAgAABAgQIECBAgAABAgQIECBAgAABAgQIECBAgAABAgQIECBAgAABAgQIECBAgAABAgQIECBAgAABAgQIECBAgAABAgQIECBAgAABAgQIECBAgAABAgQIECBAgAABAgQIECBAgAABAgQIECBAgAABAgQIECBAgAABAgQIECBAgAABAgQIECBAgAABAgQIECBAgAABAgQIECBAgAABAgQIECBAgAABAgQIECBAgAABAgQIECBAgAABAgQIECBAgAABAgQIECBAgAABAgQIECBAgAABAgQIECBAgAABAgQIECBAgAABAgQIECBAgAABAgQIECBAgAABAgQIECBAgAABAgQIECBAgAABAgQIECBAgAABAgQIECBAgAABAgQIECBAgAABAgQIECBAgAABAgQIECBAgAABAgQIECBAgAABAgQIECBAgAABAgQIECBAgAABAgQIECBAgAABAgQIECBAgAABAgQIECBAgAABAgQIECBAgAABAgQIECBAgAABAgQIECBAgAABAgQIECBAgAABAgQIECBAgAABAgQIECBAgAABAgQIECBAgAABAgQIECBAgAABAgQIECBAgAABAgQIECBAgAABAgQIECBAgAABAgQIECBAgAABAgQIECBAgAABAgQIECBAgAABAgQIECBAgAABAgQIECBAgAABAgQIECBAgAABAgQIECBAgAABAgQIECBAgAABAgQIECBAgAABAgQIECBAgAABAgQIECBAgAABAgQIECBAgAABAgQIECBAgAABAgQKEhgpaKyGOlgCx0V3ntLq0u2xPDhY3dMbAgQIECBAgAABAgQIECAwFAJLYxQntUby5VjeOxSjMog5CSybU22VCXRPIJN/13SvOS0RIECAAAECBAgQIECAAAECswg8M45/fpY6Dg+hwJIhHJMhESBAgAABAgQIECBAgAABAgQIECDQEnAHoF+FfgnkY79Hyuc+97nqMY95TL1pSYAAAQIECBAgQIAAAQIECHRJ4Fvf+lb1rGc9q27t6L/F6x2WZQhIAJYxz4M4yqPv/Mvk35o1awaxj/pEgAABAgQIECBAgAABAgSGSeDov8WHaVDGMruAR4BnN1KDAAECBAgQIECAAAECBAgQIECAQGMFJAAbO3U6ToAAAQIECBAgQIAAAQIECBAgQGB2AQnA2Y3UIECAAAECBAgQIECAAAECBAgQINBYAQnAxk6djhMgQIAAAQIECBAgQIAAAQIECBCYXUACcHYjNQgQIECAAAECBAgQIECAAAECBAg0VkACsLFTp+MECBAgQIAAAQIECBAgQIAAAQIEZheQAJzdSA0CBAgQIECAAAECBAgQIECAAAECjRWQAGzs1Ok4AQIECBAgQIAAAQIECBAgQIAAgdkFJABnN1KDAAECBAgQIECAAAECBAgQIECAQGMFJAC7N3WPjqZeEvEbEX8X8e2Iw624LJaLUV4ZjV4ZsTtiIuLWiMsjNkZ0Wo6Pir8ccU3EnRH7I74WcXHEKREKAQIECBAgQIAAAQIECBAgQIBAgwWWNbjvg9b18R526GFxrf8v4ocnXfOxsf2qiEwMZiLy1yNmKk+Mgx+LOHVSpdNjO+NnI7K9j0YoBAgQIECAAAECBAgQIECAAAECDRRwB+DiTNrOaDbvzFus8r5ouE7+fSrWfzTiWRGvi/h6RM7rRRGvj5iurIgD/yuiTv79cay/MOLZEW+J2BdxYsRfRpwZoRAgQIAAAQIECBAgQIAAAQIECDRQwB2A3Zu0vOMuH6PNyLsBHxfxjYhulxdEg69oNfqRWP5YxMHWdl77byOujci7Ad8e8aGI70RMLhfGjtNaO/MR4N9pq3B1rGdi8Z8i8hHh3404J0IhQIAAAQIECBAgQIAAAQIECBBomEDeKaZ0R+Bt0Uw+KpvJv8UsmbjLkkm//9xa5nZd8t2Dv9LaeHgs8zHeyeWY2PF/tnZ+NZb5vr/JJZOAf9ra+fxYPnNyBdsECBAgQIAAAQIECBAgQIAAAQKDLyABOPhz1N7DfGw3H9PN8omIXUfWHvrjw7Hr7tbuvENwcsm7CFe2dv5ZLA9NrtDavqxt/1TttB22SoAAAQIECBAgQIAAAQIECBAgMIgCEoCDOCvT9ynvwju2dfjT01er7otj21rH28+pT3luvRLLmdr5fBzf36r7nLZzrBIgQIAAAQIECBAgQIAAAQIECDREQAKwIRPV6uaT27r7tbb1qVbr4/mexydOqtBpO9+L8/KjIlmedP/CTwIECBAgQIAAAQIECBAgQIAAgSYJZHJIaY7AmrauTvf4b10lv0Rcl7Wx8pV6I5Z1O3l3311t+6dazXaeGnFSxHER90Z0UuprTFd39XQH7CdAgAABAgQIECBAgAABAgQIEOiegARg9yx70VK+A7Au++qVaZb1o7t5ePmkOnU7s7WRp01up9MEYHsCctLlbRIgQIAAAQIECBAgQIAAAQIECPRKwCPAvZLuznVG25rJ9/zNVNoTdQ+bVLFuZ7Y28rSZ2pnUrE0CBAgQIECAAAECBAgQIECAAIFBE3AH4KDNyMz9mWg7XH8MpG3Xg1bzcd26fLdeaS3rdmZrI6vP1M6kZh+0mY8dz1TyEeBrZqrgGAECBAgQIECAAAECBAgQIECAwMIFJAAXbtjLFva2XWzyY71th46sntC2Y/KjvnU7s7WRTczUTtslHrI62zsKH3KCHQQIECBAgAABAgQIECBAgAABAt0X8Ahw900Xs8X2pNpsH9lovwNv8vv46nYyuffwWTpct3N71Gt/HHiW0xwmQIAAAQIECBAgQIAAAQIECBAYBAEJwEGYhc770P4l3++f5bT6+Pei3s2T6nbaTt4h+oTWuV+d1IZNAgQIECBAgAABAgQIECBAgACBBghIADZgktq6eE2s1x/ueH7b/smr+W6/Da2d7efU9T5Tr8RypnaeEcfzLsEs/3z/wk8CBAgQIECAAAECBAgQIECAAIEmCUgANmm2qirf3ffJVpd/KJbTPQb88jh2YqveX7eW7Yt/jI09rR0/E8uR1vrkxavbdkzVTtthqwQIECBAgAABAgQIECBAgAABAoMoIAE4WLPy6ujO4VZcFMupyjtbO/Px3D+IWDqp0qNi++2tfXfF8k8mHc/NvIvw91r7nxTL/9Jab19sjI3XtXZ8OpZ5J6FCgAABAgQIECBAgAABAgQIECDQMIFMIindEXhuNPPEtqYyEVeX3P/qeqO1vGzSdqeb/xAV/yLiFREvjfhExO9G/GvEUyLeEvHYiCz/V8R3jqw99MfvxK6fjDgt4h0R2cds97sRL4j4rxH5+5Hbb4xQCBAgQIAAAQIECBAgQIAAAQIEGiiQCR6lOwI/G83k47RTlefEzoz2cln7xhzXXxv18xHfH47IZF1GezkUG78ZcWn7zknr+TjxiyM+FnFqxOtbEYuj5e5Ye1XEdUf3WCFAgAABAgQIECBAgAABAgQIEGiUgEeAGzVdRzubd+Vl8i6Tc5+I+LeIfKx3Z8QHI/JuxIsiZis3R4WnR/xKxOcj8pHheyJuiHhXxFMjPhqhECBAgAABAgQIECBAgAABAgQINFRgpKH91u3mC6yJIWTCstq5c2e1Zk1uKgQIECBAgAABAgQIECBAgEA3BXbt2lWtXbu2bjJXdtUbluUIuAOwnLk2UgIECBAgQIAAAQIECBAgQIAAgQIFJAALnHRDJkCAAAECBAgQIECAAAECBAgQKEdAArCcuTZSAgQIECBAgAABAgQIECBAgACBAgUkAAucdEMmQIAAAQIECBAgQIAAAQIECBAoR0ACsJy5NlICBAgQIECAAAECBAgQIECAAIECBSQAC5x0QyZAgAABAgQIECBAgAABAgQIEChHQAKwnLk2UgIECBAgQIAAAQIECBAgQIAAgQIFJAALnHRDJkCAAAECBAgQIECAAAECBAgQKEdAArCcuTZSAgQIECBAgAABAgQIECBAgACBAgUkAAucdEMmQIAAAQIECBAgQIAAAQIECBAoR0ACsJy5NlICBAgQIECAAAECBAgQIECAAIECBSQAC5x0QyZAgAABAgQIECBAgAABAgQIEChHQAKwnLk2UgIECBAgQIAAAQIECBAgQIAAgQIFJAALnHRDJkCAAAECBAgQIECAAAECBAgQKEdAArCcuTZSAgQIECBAgAABAgQIECBAgACBAgUkAAucdEMmQIAAAQIECBAgQIAAAQIECBAoR0ACsJy5NlICBAgQIECAAAECBAgQIECAAIECBSQAC5x0QyZAgAABAgQIECBAgAABAgQIEChHQAKwnLk2UgIECBAgQIAAAQIECBAgQIAAgQIFJAALnHRDJkCAAAECBAgQIECAAAECBAgQKEdAArCcuTZSAgQIECBAgAABAgQIECBAgACBAgUkAAucdEMmQIAAAQIECBAgQIAAAQIECBAoR0ACsJy5NlICBAgQIECAAAECBAgQIECAAIECBSQAC5x0QyZAgAABAgQIECBAgAABAgQIEChHQAKwnLk2UgIECBAgQIAAAQIECBAgQIAAgQIFJAALnHRDJkCAAAECBAgQIECAAAECBAgQKEdAArCcuTZSAgQIECBAgAABAgQIECBAgACBAgUkAAucdEMmQIAAAQIECBAgQIAAAQIECBAoR0ACsJy5NlICBAgQIECAAAECBAgQIECAAIECBSQAC5x0QyZAgAABAgQIECBAgAABAgQIEChHQAKwnLk2UgIECBAgQIAAAQIECBAgQIAAgQIFJAALnHRDJkCAAAECBAgQIECAAAECBAgQKEdAArCcuTZSAgQIECBAgAABAgQIECBAgACBAgUkAAucdEMmQIAAAQIECBAgQIAAAQIECBAoR0ACsJy5NlICBAgQIECAAAECBAgQIECAAIECBSQAC5x0QyZAgAABAgQIECBAgAABAgQIEChHQAKwnLk2UgIECBAgQIAAAQIECBAgQIAAgQIFJAALnHRDJkCAAAECBAgQIECAAAECBAgQKEdAArCcuTZSAgQIECBAgAABAgQIECBAgACBAgUkAAucdEMmQIAAAQIECBAgQIAAAQIECBAoR0ACsJy5NlICBAgQIECAAAECBAgQIECAAIECBSQAC5x0QyZAgAABAgQIECBAgAABAgQIEChHQAKwnLk2UgIECBAgQIAAAQIECBAgQIAAgQIFJAALnHRDJkCAAAECBAgQIECAAAECBAgQKEdAArCcuTZSAgQIECBAgAABAgQIECBAgACBAgUkAAucdEMmQIAAAQIECBAgQIAAAQIECBAoR0ACsJy5NlICBAgQIECAAAECBAgQIECAAIECBSQAC5x0QyZAgAABAgQIECBAgAABAgQIEChHQAKwnLk2UgIECBAgQIAAAQIECBAgQIAAgQIFJAALnHRDJkCAAAECBAgQIECAAAECBAgQKEdAArCcuTZSAgQIECBAgAABAgQIECBAgACBAgUkAAucdEMmQIAAAQIECBAgQIAAAQIECBAoR0ACsJy5NlICBAgQIECAAAECBAgQIECAAIECBSQAC5x0QyZAgAABAgQIECBAgAABAgQIEChHQAKwnLk2UgIECBAgQIAAAQIECBAgQIAAgQIFJAALnHRDJkCAAAECBAgQIECAAAECBAgQKEdAArCcuTZSAgQIECBAgAABAgQIECBAgACBAgUkAAucdEMmQIAAAQIECBAgQIAAAQIECBAoR0ACsJy5NlICBAgQIECAAAECBAgQIECAAIECBSQAC5x0QyZAgAABAgQIECBAgAABAgQIEChHQAKwnLk2UgIECBAgQIAAAQIECBAgQIAAgQIFJAALnHRDJkCAAAECBAgQIECAAAECBAgQKEdAArCcuTZSAgQIECBAgAABAgQIECBAgACBAgUkAAucdEMmQIAAAQIECBAgQIAAAQIECBAoR0ACsJy5NlICBAgQIECAAAECBAgQIECAAIECBSQAC5x0QyZAgAABAgQIECBAgAABAgQIEChHQAKwnLk2UgIECBAgQIAAAQIECBAgQIAAgQIFJAALnHRDJkCAAAECBAgQIECAAAECBAgQKEdAArCcuTZSAgQIECBAgAABAgQIECBAgACBAgUkAAucdEMmQIAAAQIECBAgQIAAAQIECBAoR0ACsJy5NlICBAgQIECAAAECBAgQIECAAIECBSQAC5x0QyZAgAABAgQIECBAgAABAgQIEChHQAKwnLk2UgIECBAgQIAAAQIECBAgQIAAgQIFJAALnHRDJkCAAAECBAgQIECAAAECBAgQKEdAArCcuTZSAgQIECBAgAABAgQIECBAgACBAgUkAAucdEMmQIAAAQIECBAgQIAAAQIECBAoR0ACsJy5NlICBAgQIECAAAECBAgQIECAAIECBSQAC5x0QyZAgAABAgQIECBAgAABAgQIEChHQAKwnLk2UgIECBAgQIAAAQIECBAgQIAAgQIFJAALnHRDJkCAAAECBAgQIECAAAECBAgQKEdAArCcuTZSAgQIECBAgAABAgQIECBAgACBAgUkAAucdEMmQIAAAQIECBAgQIAAAQIECBAoR0ACsJy5NlICBAgQIECAAAECBAgQIECAAIECBSQAC5x0QyZAgAABAgQIECBAgAABAgQIEChHQAKwnLk2UgIECBAgQIAAAQIECBAgQIAAgQIFJAALnHRDJkCAAAECBAgQIECAAAECBAgQKEdAArCcuTZSAgQIECBAgAABAgQIECBAgACBAgUkAAucdEMmQIAAAQIECBAgQIAAAQIECBAoR0ACsJy5NlICBAgQIECAAAECBAgQIECAAIECBSQAC5x0QyZAgAABAgQIECBAgAABAgQIEChHQAKwnLk2UgIECBAgQIAAAQIECBAgQIAAgQIFJAALnHRDJkCAAAECBAgQIECAAAECBAgQKEdAArCcuTZSAgQIECBAgAABAgQIECBAgACBAgUkAAucdEMmQIAAAQIECBAgQIAAAQIECBAoR0ACsJy5NlICBAgQIECAAAECBAgQIECAAIECBSQAC5x0QyZAgAABAgQIECBAgAABAgQIEChHQAKwnLk2UgIECBAgQIAAAQIECBAgQIAAgQIFJAALnHRDJkCAAAECBAgQIECAAAECBAgQKEdAArCcuTZSAgQIECBAgAABAgQIECBAgACBAgUkAAucdEMmQIAAAQIECBAgQIAAAQIECBAoR0ACsJy5NlICBAgQIECAAAECBAgQIECAAIECBSQAC5x0QyZAgAABAgQIECBAgAABAgQIEChHQAKwnLk2UgIECBAgQIAAAQIECBAgQIAAgQIFJAALnHRDJkCAAAECBAgQIECAAAECBAgQKEdAArCcuTZSAgQIECBAgAABAgQIECBAgACBAgUkAAucdEMmQIAAAQIECBAgQIAAAQIECBAoR0ACsJy5NlICBAgQIECAAAECBAgQIECAAIECBSQAC5x0QyZAgAABAgQIECBAgAABAgQIEChHQAKwnLk2UgIECBAgQIAAAQIECBAgQIAAgQIFJAALnHRDJkCAAAECBAgQIECAAAECBAgQKEdAArCcuTZSAgQIECBAgAABAgQIECBAgACBAgWWFThmQybQNYG9Eweq3Xsmqv33HaxOOHZptXrlaLVi9Jiuta8hAgQIECBAgAABAgQIECBAgMBCBSQAFyro/OIEDh8+XF29445qy9W3Vld+Zbw6eOjwUYOlS0aqTevHqnM3nFJtXLeqGhkZOXrMCgECBAgQIECAAAECBAgQIECgHwISgP1Qd83GClx/257qzVuvq24c3zflGDIZ+LEv7z4Sp40try7ZfGZ1xskrp6xrJwECBAgQIECAAAECBAgQIECgFwLeAdgLZdcYCoGrbrq92nzp1dMm/yYPMpOEWT/PUwgQIECAAAECBAgQIECAAAEC/RKQAOyXvOs2SiDv/Dt/y7XVPfGuv7mUrJ/n5fkKAQIECBAgQIAAAQIECBAgQKAfAhKA/VB3zUYJ5Dv/8rHfuSb/6kHmeRds/WKV7SgECBAgQIAAAQIECBAgQIAAgV4LSAD2Wtz1GieQH/yY7p1/nQ7mhvG91bYdd3ZaXT0CBAgQIECAAAECBAgQIECAQNcEJAC7RqmhYRW4fNutXRlat9rpSmc0QoAAAQIECBAgQIAAAQIECBQjIAFYzFQb6HwE9k4cqK7YPj6fUx9yzse3766yPYUAAQIECBAgQIAAAQIECBAg0EsBCcBeartW4wR275moDh7qzrv7sp3xuycaZ6DDBAgQIECAAAECBAgQIECAQLMFJACbPX96v8gC++f41d/ZurPv3rl9RXi29hwnQIAAAQIECBAgQIAAAQIECMwmIAE4m5DjRQuccOzSro5/+XHdba+rndMYAQIECBAgQIAAAQIECBAgMJQCEoBDOa0G1S2B1StHq6VLRrrS3LJoZ+zE0a60pRECBAgQIECAAAECBAgQIECAQKcCEoCdSqlXpMCK0WOqTevHujL2TetXV9meQoAAAQIECBAgQIAAAQIECBDopYAEYC+1XauRAuduOKUr/e5WO13pjEYIECBAgAABAgQIECBAgACBYgQkAIuZagOdr8DGdauq08aWz/f0I+edPrai2rDukQtqw8kECBAgQIAAAQIECBAgQIAAgfkISADOR232c/KWsYsjvhaxP+LOiGsiLow4PqIb5QnRyLsjtkfsjcjr3BDxexGnR3RaXhoV/yritoh7I74d8f9HvDHCC+sCYWRkpLpk85nV8fP8IEied/Hmpx1pJ5pTCBAgQIAAAQIECBAgQIAAAQI9FejO1w162uWBv9iPRA8vjzhxmp7eGPtfHHHzNMc72X1+VHpPxHQvlJuIY78Q8b6I6cqKOPDBiJdMVyH2fzUix/P1GerM99CaOHFnnrxz585qzZrcHOxy1U23V+dvuba6576DHXc0k3+XnndWdfapJ3V8jooECBAgQIAAAQIECBAgQKBbArt27arWrl1bN5cru+oNy3IE3AHY3bl+ejT3lxGZ/NsX8ZaIZ0e8MOKPI7KcFvG/IjIBN5/yijjpvRGZ/NsT8daI50Y8M+L1EZlYzDv38nrTJfcy8bu17fi1sX5uxDMiXhDxzoi8G/BJEX8XsTKi+JJJvK3nb+z4ceB87DfrS/4V/6sDgAABAgQIECBAgAABAgQI9FXAHYDd5f90NPe8iO+1lldPav7C2H5Ha9+vx/Ki1nqni3x8+BsRj47IBOPGiOsj2ksmHz8T8ZSIWyPyceBM5rWXH4+ND7V2fCKWmSi8r7VdL34oVj4esTTi/4n41YhuljXRWKPuAKwHf/jw4WrbjjurLdtuqa7YPl4dPHS4PlQtWzISXw1eXeUHP/Kdf/n4sEKAAAECBAgQIECAAAECBPol4A7AfskP1nVlJ7o3H8+Kpj7bau7SWP7cFE3nHZeZsMs76+6KyETegYhOS3vi7rfipF+b5sRM3mViL8vPRHzgyNoDPz4aq/kYcpa8I/GmI2sP/XF57HpVxP6I7Os9Ed0qjU0AtgPsnThQjd89Ue2792C1/Lil1diJo9WK0emezG4/0zoBAgQIECBAgAABAgQIEFh8AQnAxTduwhU8Aty9WfrRtqbe37bevnooNupk3MNj/QXtBztYf0ZbnXw0d7ryj3Eg3wOYJZOGk0vdzs1xYLrkX56TdwBmOSHiRUfW/HiQQCb7nvjoFdWZax9+ZCn59yAeGwQIECBAgAABAgQIECBAgMAACEgAdm8SnttqKu+Wy3fqTVc+3XbgOW3rnayuaqs03rY+efV7sePO1s6zJx+M7bqdmdrI09qPT9XOFE3bRYAAAQIECBAgQIAAAQIECBAgMEgCEoDdm418rDdL3lWXCbjpytfaDtTntO2acXVf29GZPsyRj3bXXyHOOw0f03ZertbtzNRG1ms//uTcoRAgQIAAAQIECBAgQIAAAQIECDRLYFmzujuwvc2v7j6q1btds/TyO3E87xLMx2qPfod7lnPqw1+tV2L5/Ijp7jTMrxEvb6ub1/lW23a2szEiE5AnRdweMVXJD5rUZa59XVOfOM1y9TT77SZAgAABAgQIECBAgAABAgQIEOiigDsAu4O5oq2Z+u66tl0PWc0EYJb2JN39e2b++bE4fKBV5c2xrJOO7WflnOYHQtpLe/9y//9sHcwv/P7frfXJi1Njx2vadk5uo+3QlKv5hd+Z4popz7KTAAECBAgQIECAAAECBAgQIECgqwISgN3hzDsA63JfvTLD8t7WsYfNUGeqQ3l34R+1Dpwcy3+OeFlEPu6bfdgQkUnC/GBHez8mX+e9cby+U/H1sb4l4qkRx0bk+wHPi/iniExQ1u1MbiMOKQQIECBAgAABAgQIECBAgAABAoMusGzQO9iQ/k209TOTaLOV41oVvjtbxSmOXxj7Hh/xIxGnRdR388Xq0fL1WPvbiDe19uw9euT+lbtj8dKITBbmo7jntiIWDyq/H1s/FPH9EZPbeFDFKTZme2Q4r+suwCng7CJAgAABAgQIECBAgAABAgQIdFPAHYDd0WxPjnXyWG++/y9LJ48L31/zgZ95R17e9ffaiGsjDkXUJd8v+O6IH4hon9vcP7l8IXacGZH1298PmPW+FJFJwV+KyERdlqnauP/I1D/zDsOZYvfUp9lLgAABAgQIECBAgAABAgQIECDQTQF3AHZHM+8A/HZEvpNvto9fPCLq1AnAfEfefMrhOOn9rciE41hEPlacibyDEVnykd4s34u48cjaQ3+Mx643tuLRsXx4xO0RdbLvsa19sai25w+FAAECBAgQIECAAAECBAgQIECgWQISgN2br/yy7tkRT4xI10y8TVXycdq65DkLLXkX4eQ7CfMR42e0Gs67+TJBOVv5t6iQ0V6e27bxubZ1qwQIECBAgAABAgQIECBAgAABAg0RaH9MtCFdHthufqbVs7y776wZevn8tmP5EY/FKPl+wBWthrcu4AI/1To37yr88ALacSoBAgQIECBAgAABAgQIECBAgECfBCQAuwff/jGO10zTbHr/dOvYXbH81DT1FrL7mDj5olYD98Tystb6XBfPjhNe3Drpb2J521wbUJ8AAQIECBAgQIAAAQIECBAgQKD/AhKA3ZuDfET2qlZzr4vlximaviD2Pam1Pz++cWBSnXNiO9/vl3FZxFQl3zP4sKkOxL78AvH7I9a3jr8tlvmev6lKvt9vunJqHKjvHNwf69lvhQABAgQIECBAgAABAgQIECBAoIEC+a46pXsCb4im/jkiE3RXRvx2xKda26+I5esjsuRHOS4+sjb3H+fEKX8ccXnE30fkh0SOj3h6xM9FPDkiSz6y+64ja1P/+MPYnUnAD0R8PmJPRH4IZFPE+RHZZj76++qIWyIUAgQIECBAgAABAgQIECBAgACBBgpIAHZ30r4Qzf1kRCbnTozIBODkksm/fLR27+QDc9jOr/X+Yismn5Z3D743IpOR9ReBJ9ept58SK79Tb0xa/ltsZ8IyH/9VCBAgQIAAAQIECBAgQIAAAQIEGiogAdj9iftINPnUiEzAZaJvTcR9ETdHfCji9yPy3XzzLfmY8YURL4zILwrnXXuHIvIdfZ+MeF/EtRGzlf8eFTIZeXZE9nFVxHcisp/5PsM/aW3HQiFAgAABAgQIECBAgAABAgQIEGiqwEhTO67fjRfIpGM+vlzt3LmzWrMmNxUCBAgQIECAAAECBAgQIECgmwK7du2q1q5dWzeZK7vqDctyBHwEpJy5NlICBAgQIECAAAECBAgQIECAAIECBSQAC5x0QyZAgAABAgQIECBAgAABAgQIEChHQAKwnLk2UgIECBAgQIAAAQIECBAgQIAAgQIFJAALnHRDJkCAAAECBAgQIECAAAECBAgQKEdAArCcuTZSAgQIECBAgAABAgQIECBAgACBAgUkAAucdEMmQIAAAQIECBAgQIAAAQIECBAoR0ACsJy5NlICBAgQIECAAAECBAgQIECAAIECBSQAC5x0QyZAgAABAgQIECBAgAABAgQIEChHQAKwnLk2UgIECBAgQIAAAQIECBAgQIAAgQIFJAALnHRDJkCAAAECBAgQIECAAAECBAgQKEdAArCcuTZSAgQIECBAgAABAgQIECBAgACBAgUkAAucdEMmQIAAAQIECBAgQIAAAQIECBAoR0ACsJy5NlICBAgQIECAAAECBAgQIECAAIECBSQAC5x0QyZAgAABAgQIECBAgAABAgQIEChHQAKwnLk2UgIECBAgQIAAAQIECBAgQIAAgQIFJAALnHRDJkCAAAECBAgQIECAAAECBAgQKEdAArCcuTZSAgQIECBAgAABAgQIECBAgACBAgUkAAucdEMmQIAAAQIECBAgQIAAAQIECBAoR0ACsJy5NlICBAgQIECAAAECBAgQIECAAIECBSQAC5x0QyZAgAABAgQIECBAgAABAgQIEChHQAKwnLk2UgIECBAgQIAAAQIECBAgQIAAgQIFJAALnHRDJkCAAAECBAgQIECAAAECBAgQKEdAArCcuTZSAgQIECBAgAABAgQIECBAgACBAgUkAAucdEMmQIAAAQIECBAgQIAAAQIECBAoR0ACsJy5NlICBAgQIECAAAECBAgQIECAAIECBSQAC5x0QyZAgAABAgQIECBAgAABAgQIEChHQAKwnLk2UgIECBAgQIAAAQIECBAgQIAAgQIFJAALnHRDJkCAAAECBAgQIECAAAECBAgQKEdgWTlDNVICBIZZYO/EgWr3nolq/30HqxOOXVqtXjlarRg9ZpiHbGwECBAgQIAAAQIECBAgQKAjAQnAjphUIkBgEAUOHz5cXb3jjmrL1bdWV35lvDp46PDRbi5dMlJtWj9WnbvhlGrjulXVyMjI0WNWCBAgQIAAAQIECBAgQIBASQISgCXNtrESGCKB62/bU71563XVjeP7phxVJgM/9uXdR+K0seXVJZvPrM44eeWUde0kQIAAAQIECBAgQIAAAQLDLOAdgMM8u8ZGYEgFrrrp9mrzpVdPm/ybPOxMEmb9PE8hQIAAAQIECBAgQIAAAQKlCUgAljbjxkug4QJ559/5W66t7ol3/c2lZP08L89XCBAgQIAAAQIECBAgQIBASQISgCXNtrESaLhAvvMvH/uda/KvHnaed8HWL1bZjkKAAAECBAgQIECAAAECBEoRkAAsZaaNk8AQCOQHP6Z751+nw7thfG+1bcednVZXjwABAgQIECBAgAABAgQINF5AArDxU2gABMoRuHzbrV0ZbLfa6UpnNEKAAAECBAgQIECAAAECBBZZQAJwkYE1T4BAdwT2Thyortg+3pXGPr59d5XtKQQIECBAgAABAgQIECBAoAQBCcASZtkYCQyBwO49E9XBQ915d1+2M373xBCoGAIBAgQIECBAgAABAgQIEJhdQAJwdiM1CBAYAIH9c/zq72xd3nfv3L4iPFt7jhMgQIAAAQIECBAgQIAAgUEVkAAc1JnRLwIEHiRwwrFLH7S90I3lx3W3vYX2x/kECBAgQIAAAQIECBAgQGCxBCQAF0tWuwQIdFVg9crRaumSka60uSzaGTtxtCttaYQAAQIECBAgQIAAAQIECAy6gATgoM+Q/hEgcERgxegx1ab1Y13R2LR+dZXtKQQIECBAgAABAgQIECBAoAQBCcASZtkYCQyJwLkbTunKSLrVTlc6oxECBAgQIECAAAECBAgQILDIAhKAiwyseQIEuiewcd2q6rSx5Qtq8PSxFdWGdY9cUBtOJkCAAAECBAgQIECAAAECTRKQAGzSbOkrgcIFRkZGqks2n1kdP88PguR5F29+WpXtKAQIECBAgAABAgQIECBAoBQBCcBSZto4CQyJwBknr6wuPe+sOScBM/mX5+X5CgECBAgQIECAAAECBAgQKElAArCk2TZWAkMicPapJ1Vbz9/Y8ePA+dhv1s/zFAIECBAgQIAAAQIECBAgUJrAstIGbLwECAyHQN7Jd8Ubn1dt23FntWXbLdUV28erg4cOHx3csiUj8dXg1VV+8CPf+eex36M0VggQIECAAAECBAgQIECgMAEJwMIm3HAJDJNAJvU2PmHVkdg7caAav3ui2nfvwWr5cUursRNHqxWjxwzTcI2FAAECBAgQIECAAAECBAjMS0ACcF5sTiJAYNAEMtkn4Tdos6I/BAgQIECAAAECBAgQIDAIAt4BOAizoA8ECBAgQIAAAQIECBAgQIAAAQIEFklAAnCRYDVLgAABAgQIECBAgAABAgQIECBAYBAEJAAHYRb0gQABAgQIECBAgAABAgQIECBAgMAiCUgALhKsZgkQIECAAAECBAgQIECAAAECBAgMgoAE4CDMgj4QIECAAAECBAgQIECAAAECBAgQWCQBCcBFgtUsAQIECBAgQIAAAQIECBAgQIAAgUEQkAAchFnQBwIECBAgQIAAAQIECBAgQIAAAQKLJCABuEiwmiVAgAABAgQIECBAgAABAgQIECAwCAISgIMwC/pAgAABAgQIECBAgAABAgQIECBAYJEEJAAXCVazBAgQIECAAAECBAgQIECAAAECBAZBQAJwEGZBHwgQIECAAAECBAgQIECAAAECBAgsksCyRWpXswQINERg78SBaveeiWr/fQerE45dWq1eOVqtGD2mIb3XTQIECBAgQIAAAQIECBAgQGA2AQnA2YQcJzCEAocPH66u3nFHteXqW6srvzJeHTx0+Ogoly4ZqTatH6vO3XBKtXHdqmpkZOToMSsECBAgQIAAAQIECBAgQIBA8wQkAJs3Z3pMYEEC19+2p3rz1uuqG8f3TdlOJgM/9uXdR+K0seXVJZvPrM44eeWUde0kQIAAAQIECBAgQIAAAQIEBl/AOwAHf470kEDXBK666fZq86VXT5v8m3yhTBJm/TxPIUCAAAECBAgQIECAAAECBJopIAHYzHnTawJzFsg7/87fcm11T7zrby4l6+d5eb5CgAABAgQIECBAgAABAgQINE9AArB5c6bHBOYskO/8y8d+55r8qy+U512w9YtVtqMQIECAAAECBAgQIECAAAECzRKQAGzWfOktgXkJ5Ac/pnvnX6cN3jC+t9q2485Oq6tHgAABAgQIECBAgAABAgQIDIiABOCATIRuEFhMgcu33dqV5rvVTlc6oxECBAgQIECAAAECBAgQIECgIwEJwI6YVCLQXIG9EweqK7aPd2UAH9++u8r2FAIECBAgQIAAAQIECBAgQKA5AhKAzZkrPSUwL4Hdeyaqg4e68+6+bGf87ol59cNJBAgQIECAAAECBAgQIECAQH8EJAD74+6qBHomsH+OX/2drWP77p3bV4Rna89xAgQIECBAgAABAgQIECBAYHEFJAAX11frBPoucMKxS7vah+XHdbe9rnZOYwQIECBAgAABAgQIECBAgMBDBCQAH0JiB4HhEli9crRaumSkK4NaFu2MnTjalbY0QoAAAQIECBAgQIAAAQIECPRGQAKwN86uQqBvAitGj6k2rR/ryvU3rV9dZXsKAQIECBAgQIAAAQIECBAg0BwBCcDmzJWeEpi3wLkbTpn3ue0ndqud9jatEyBAgAABAgQIECBAgAABAosrIAG4uL5aJzAQAhvXrapOG1u+oL6cPrai2rDukQtqw8kECBAgQIAAAQIECBAgQIBA7wUkAHtv7ooEei4wMjJSXbL5zOr4eX4QJM+7ePPTqmxHIUCAAAECBAgQIECAAAECBJolIAHYrPnSWwLzFjjj5JXVpeedNeckYCb/8rw8XyFAgAABAgQIECBAgAABAgSaJyAB2Lw502MC8xY4+9STqq3nb+z4ceB87Dfr53kKAQIECBAgQIAAAQIECBAg0EyBZc3stl4TIDBfgbyT74o3Pq/atuPOasu2W6orto9XBw8dPtrcsiUj8dXg1VV+8CPf+eex36M0VggQIECAAAECBAgQIECAQCMFJAAbOW06TWBhApnU2/iEVUdi78SBavzuiWrfvQer5cctrcZOHK1WjB6zsAs4mwABAgQIECBAgAABAgQIEBgYAQnAgZkKHSHQH4FM9kn49cfeVQkQIECAAAECBAgQIECAQC8EvAOwF8quQYAAAQIECBAgQIAAAQIECBAgQKBPAhKAfYJ3WQIECBAgQIAAAQIECBAgQIAAAQK9EJAA7IWyaxAgQIAAAQIECBAgQIAAAQIECBDok4AEYJ/gXZYAAQIECBAgQIAAAQIECBAgQIBALwQkAHuh7BoECBAgQIAAAQIECBAgQIAAAQIE+iQgAdgneJclQIAAAQIECBAgQIAAAQIECBAg0AsBCcBeKLsGAQIECBAgQIAAAQIECBAgQIAAgT4JSAD2Cd5lCRAgQIAAAQIECBAgQIAAAQIECPRCQAKwF8quQYAAAQIECBAgQIAAAQIECBAgQKBPAhKAfYJ3WQIECBAgQIAAAQIECBAgQIAAAQK9EJAA7IWyaxAgQIAAAQIECBAgQIAAAQIECBDok4AEYJ/gXZYAAQIECBAgQIAAAQIECBAgQIBALwQkAHuh7BoECBAgQIAAAQIECBAgQIAAAQIE+iQgAdgneJclQIAAAQIECBAgQIAAAQIECBAg0AsBCcBeKLsGAQIECBAgQIAAAQIECBAgQIAAgT4JSAD2Cd5lCRAgQIAAAQIECBAgQIAAAQIECPRCQAKwF8quQYAAAQIECBAgQIAAAQIECBAgQKBPAhKAfYJ3WQIECBAgQIAAAQIECBAgQIAAAQK9EJAA7IWyaxAgQIAAAQIECBAgQIAAAQIECBDok4AEYJ/gXZYAAQIECBAgQIAAAQIECBAgQIBALwQkAHuh7BoECBAgQIAAAQIECBAgQIAAAQIE+iQgAdgneJclQIAAAQIECBAgQIAAAQIECBAg0AsBCcBeKLsGAQIECBAgQIAAAQIECBAgQIAAgT4JSAD2Cd5lCRAgQIAAAQIECBAgQIAAAQIECPRCQAKwF8quQYAAAQIECBAgQIAAAQIECBAgQKBPAhKAfYJ3WQIECBAgQIAAAQIECBAgQIAAAQK9EJAA7IWyaxAgQIAAAQIECBAgQIAAAQIECBDok4AEYJ/gXZYAAQIECBAgQIAAAQIECBAgQIBALwQkAHuh7BoECBAgQIAAAQIECBAgQIAAAQIE+iQgAdgneJclQIAAAQIECBAgQIAAAQIECBAg0AsBCcBeKLsGAQIECBAgQIAAAQIECBAgQIAAgT4JSAD2Cd5lCRAgQIAAAQIECBAgQIAAAQIECPRCQAKwF8quQYAAAQIECBAgQIAAAQIECBAgQKBPAhKAfYJ3WQIECBAgQIAAAQIECBAgQIAAAQK9EJAA7IWyaxAgQIAAAQIECBAgQIAAAQIECBDok4AEYJ/gXZYAAQIECBAgQIAAAQIECBAgQIBALwQkAHuh7BoECBAgQIAAAQIECBAgQIAAAQIE+iQgAdgneJclQIAAAQIECBAgQIAAAQIECBAg0AsBCcBeKLsGAQIECBAgQIAAAQIECBAgQIAAgT4JSAD2Cd5lCRAgQIAAAQIECBAgQIAAAQIECPRCQAKwF8quQYAAAQIECBAgQIAAAQIECBAgQKBPAhKAfYJ3WQIECBAgQIAAAQIECBAgQIAAAQK9EJAA7IWyaxAgQIAAAQIECBAgQIAAAQIECBDok4AEYJ/gXZYAAQIECBAgQIAAAQIECBAgQIBALwSanAD88QA6phdI87jGKXHOxRFfi9gfcWfENREXRhwf0Y3yhGjk3RHbI/ZG5HVuiPi9iNMjOi0viop/EbEj4p6IiYidEX8T8ZMRTf4die4rBJojsHfiQHXT+N7qup13HVnmdhPLsIyjifb6TIAAAQIECBAgQIAAgakERqba2ZB9h6Kfd0RcHvH+iC9FDEL5kehE9unEaTpzY+x/ccTN0xzvZPf5Uek9EdMlQDOJ9wsR74uYrhwXB/484j9OV6G1/6pYvjTirlnqzfXwmjghE43Vzp07qzVrclMhUJ7A4cOHq6t33FFtufrW6sqvjFcHDx0+irB0yUi1af1Yde6GU6qN61ZVIyOD+z/ZwzKOo/hWCBAgQIAAAQIECAyJwK5du6q1a9fWo8mVXfWGZTkCg/uvydnnIBOAWep/LX8h1v804n9EdDtZFU12VJ4etf454mER+yL+e8SnWtuviOV/isiSScBnROSde3Mt2U6OMcueiLzT8B8i7o3I6/9yxBMj0udlER+NmKpcGjtf3zrwb7F8R8S/ROQtR0+J+JWIUyKyXBGRdwp2s0gAdlNTW40UuP62PdWbt15X3Tie/3MxczltbHl1yeYzqzNOXjlzxT4cHZZx9IHOJQkQIECAAAECBAgsuoAE4KITN+ICTU4AviSEXxORy/pOuEwGZiLsryPeH/H3Eb0sn46LPS/ie63l1ZMuno8AZ6Ity69HXJQrcyj5+PA3Ih4dkRmDjRHXR7SXvPPwMxGZxLs14vSINGkvY7HxrxH5eO93Ip4aMfm/AGQ7X4x4XESWZ0Z8/shad35IAHbHUSsNFbjqptur87dcW91z38GOR3D8sUurS887qzr71JM6PmexKw7LOBbbSfsECBAgQIAAAQIE+iUgAdgv+cG6bpPf75Z3tuXjq98XcUHElyNGIkYj8i65vGvtloi3RZwSsdjlWXGBTP5lyTsRJyf/cn/erffVXInyhog6cXlkRwc/fjjqZPIvy7sjJif/cv/dEW/OlSg57nyP3+Tyg7Gjnvv3x/rk5F/Wz3belSutkslGhQCBLgjkHXNzTf7lZTNZmOfl+YNQhmUcg2CpDwQIECBAgAABAgQIEFhMgToJtJjXWOy274gLZKLqaRHPiPjDiHwEOJOBj414a8TXI/JuwFdGHBexGOVH2xrNpNpU5VDs/EDrwMNj+YKpKs2wL8dXl7+rV6ZY/mPsy/cAZvnx+xcP+nls29aOtvXJq+lWl/Zz6n2WBAjMUSDflZeP/c7lzr/2S+R5F2z9YpXt9LMMyzj6aejaBAgQIECAAAECBAgQ6JXAMCQA263yHXa/GPGYiPouwPxXco7z30VcHvGtiD+IaE+mxeaCy3NbLeyP5bUztPbptmPPaVvvZHVVW6XxtvXJq/kI8p2tnWdPPhjbN7TtW9e2Pnk1vzRcl/Zz6n2WBAjMUSA/+Cnwx5IAAEAASURBVNHJO/9mavaG+FLwth31n/hMNRfv2LCMY/GEtEyAAAECBAgQIECAAIHBERi2BGAte1+sbI34DxGnRPxaRCbM8q7AvPPu5yI+G3FdxPkR3bgr8EnRTpabIzIBN135WtuB+py2XTOu7ms7urJtffJqjjPf4Zclx5sJ0faSj0vnx0qyvDoiH6OeXFbEjje2duZdgldOrmCbAIG5C1y+7da5nzTFGd1qZ4qmO9rVret3q52OOq0SAQIECBAgQIAAAQIEChUY1gRgPZ350Ywfivj3EfnuvPqZuUyQZTw1Ih8ZzgTXyyPmW/K9g49qnTzV+/Ta2/1ObORdglnW3r/o+Gf9/sA84fkznJVfA17ednyq67w2jn8j4pER/xKR7w08J+K5EZkgzQ+APD7i2xGvisik6lzKmqg8U6yeS2PqEhgGgb0TB6ortud/i1h4+fj23VW2148yLOPoh51rEiBAgAABAgQIECBAoB8Cy/px0R5cM5NYr4n4iYgTWtfLhF++Of+DEVsizojIJNiGiLxD7kMRL474eMRcS94tV5f2u/TqfZOXmQDMfrUn6SbXmWr7Y7Ez/8WfHw/JhN0HIjJB116WxMZvte+I9fb+1YdujJVnRvx8xK9EXBzRXvI674x4d8RsSc328+r1nfWKJQEC9wvs3jNRHTxU/3eIhalkO+N3T1QrRuf6LaGFXTfPHpZxLFxCCwQIECBAgAABAgQIEGiGQCaLhqWcHAP5rxGZ2Pp0xKsjMsGWib/PRPxMRCb6fiFiW8SfRDw74pyIWyOy3lsi5lPyDsC63FevzLC8t3XsYTPUmepQJuL+qHUgx5uP8b4sIh/3zT5kMjOThC+KaO/HdNf5kaj3qoipEpGZVdgc8VMRaaMQILBAgf3xAY9uln33dre9Tvs2LOPodLzqESBAgAABAgQIECBAoOkCTb8DML9M+2MRr4l4YUQmNOtkVT5n94GITPTdFDFd+ac4kHfT/VXEU6arNMv+ibbjnXwtt37n4Hfbzut09cKo+PiITN6dFvE/IyaXr8eOv414U+vA3skVYvviiBx3lmzjdyK+GJEZhSdF/FJEur494gcjMhk4l2zD2qg/U1kdB6+ZqYJjBIZN4IRjl3Z1SMuP6257nXZuWMbR6XjVI0CAAAECBAgQIECAQNMFmpwA/IPAf2VE/TGMTPwdishHeDPp95GI70V0Uq5vVVrRSeUp6rQn2Ka6m27yKfn4b5ZOHhe+v+YDP/POvrzr79UReTfj0yMy8Zkl3y+YSc+3RvxGRF1yf3t5cWzUyb/LYj0Tfe3lC7Hx2oi84/C/Rbw84j9HvCei05LnKgQItAmsXjlaLV0y0pXHgJdFO2Mntt983HahRV4dlnEsMpPmCRAgQIAAAQIECBAgMDACdeJoYDo0h478fNTNL9xm4u+bEW+LOCUik1t/HdFp8i+qVvlIbrZxa27Mo+QdgN9unbdmlvMfEcfrBODOWepOdzhfIvb+iGdErIx4YkTecXdSRH659+6I/MBJlnS48cjaAz9+9oHVI19Ibtt80Opvx1adpMyEoEKAwAIE8n19m9aPLaCFB07dtH51X97/lz0YlnE8oGmNAAECBAgQIECAAAECwy3Q5ATggZiaD0VsilgX8ZsRt0XMp2Ty73ER2c58y1dbJ2YybtkMjXx/27H6nLZdc17NBN3XI3ZFHGydnY8YZ3Iwy5ci2h9Rzn35iG+W8YiZzPK87VkxSnu/79/jJwECcxY4d0P+d4qFl261M9+edOv63WpnvuNwHgECBAgQIECAAAECBEoQaHIC8Ptign4y4hMReUdcv8tnWh3Iu/vOmqEzz287lh/xWIyS7wesH2feOsUF6rsjZ0pU1qflx0Cy1Ofcv+UnAQLzEti4blV12lgnbwqYvvnTx1ZUG9Y9cvoKPTgyLOPoAZVLECBAgAABAgQIECBAoO8CTU4A3tF3vQd3oP1jHJPfqVfXTO+fbm3cFctP1Qe6uMyE3UWt9u6J5WWt9fbFN1obq2JZ3w3YfrxezwzDGa2N+pz6mCUBAvMQGBkZqS7ZfGZ1/Dw/CJLnXbz5aVW2088yLOPop6FrEyBAgAABAgQIECBAoFcCTU4AptFjW1F/VXcmt3xbfl1/pnrzPfa5OPGq1smvi+XGKRq6IPbVCbd3x3o+xtxezomNw624LJZTlUfFzodNdSD25ReI3x+xvnX8bbHMx3wnl4+07fjdWJ/qy8X5u5F9rI99tO0cqwQILEDgjJNXVpeed9ack4CZ/Mvz8vxBKMMyjkGw1AcCBAgQIECAAAECBAgspkCTE4DPDZhbIr4ccXzEbCXr5PvsdkQ8a7bK8zz+hjjvuxH5aO2VEb8asSHiBRGXRrwjIkt+lOPiI2tz/3FOnPKvEe+JeFnED0SkxS9FfCHiVRFZPhzxriNrD/1xWez6Wmv3v4/l5yP+U0S6nBVxXkQ+0nxuRJZMIl5yZM0PAgS6InD2qSdVW8/f2PHjwPnYb9bP8wapDMs4BslUXwgQIECAAAECBAgQINBtgU7eAdfta3arvXz/X5Z89PY7R9Zm/nFnHP6riHwE9xURecdet0sm4LJfl0ecGPHbEZNLJv9eHLF38oE5bD886v5iKyaflncQvjfiDRH1R0Em17kvdrwo4m8inhbxlIj/N2Kq8o3Y+fKIb0910D4CBOYvkHfQXfHG51XbdtxZbdl2S3XF9vHq4KH8E76/LFsyEl8NXl3lhzLynX/9fuy37tfk5bCMY/K4bBMgQIAAAQIECBAgQGBYBJqcAMxHbPNfyvkRkE7LFVExE4B5x9xilY9Ew0+NyARcJvrWRGTC7eaID0X8fkS+m2++JR8zvjDihRH5Zd5HRxyKuC3ikxHvi7g2YrZya1R4ZkQmQ388Iu8kzFuL8sVimSz9UkQmVz8QsT9CIUBgEQQyqbfxCauOxN6JA9X43RPVvnsPVsuPW1qNnTharRjN13oOfhmWcQy+tB4SIECAAAECBAgQIEBg7gL9fYv83PvbfkY+lprvw9sQcU37gRnWM+H12YhvRZw8Qz2HFl8gE6M78zI7d+6s1qzJTYUAAQIECBAgQIAAAQIECBDopsCuXbuqtWvX1k3myq56w7IcgSa/A3Bla5qme8x1qlms666a6qB9BAgQIECAAAECBAgQIECAAAECBIZNoMkJwPqddOvmMCl13e/M4RxVCRAgQIAAAQIECBAgQIAAAQIECDRWoMkJwOta6vXHQDqZhHzfXZbr71/4SYAAAQIECBAgQIAAAQIECBAgQGC4BZqcAMwv2OY7DPMLtT/RwTRtbtXND4fkxy0UAgQIECBAgAABAgQIECBAgAABAkMv0OQE4GUxO7dEZBLwgxHvjDj6VstYr0vuuyTizyMy+ZcfnviTCIUAAQIECBAgQIAAAQIECBAgQIDA0Assa/AID0Tf8+6/f4pYHvGmVnwzlvmV30z2fV/EYyOyZKJwX8SPRdwboRAgQIAAAQIECBAgQIAAAQIECBAYeoEm3wGYk5PvAfzBiC9EZIIv45SI3LehtV7vvza2nxWRdRUCBAgQIECAAAECBAgQIECAAAECRQg0+Q7AeoK+GitnRfwfES+JeHrEoyKy5JeC/yXiIxGfjFAIECBAgAABAgQIECBAgAABAgQIFCUwDAnAesI+ESsZCgECBAgQIECAAAECBAgQIECAAAECLYGmPwJsIgkQIECAAAECBAgQIECAAAECBAgQmEFAAnAGHIcIECBAgAABAgQIECBAgAABAgQINF1gmB4BzrlYGvGIiIdF5Mc/Zir5tWCFAAECBAgMrcDeiQPV7j0T1f77DlYnHLu0Wr1ytFoxekzjxjsM4xiGMTTuF0eHCRAgQIAAAQIEjgoMQwIwP/jxSxE/GvHkiE7uajwc9YZh7DEMhQABAgQIPCBw+PDh6uodd1Rbrr61uvIr49XBQ/l/8u4vS5eMVJvWj1Xnbjil2rhuVTUyMtt/K6vP7P1yGMYxDGPo/cy7IgECBAgQIECAwGIIDO7/59/ZaJ8d1T4ccVLEXMaS/xrKuwWV/gmsiUvvzMvv3LmzWrMmNxUCBAgQWIjA9bftqd689brqxvF9szZz2tjy6pLNZ1ZnnLxy1rq9rjAM4xiGMfR63l2PAAECBAgQWByBXbt2VWvXrq0bz5Vd9YZlOQKd3C03qBqromN/E/HoiP0RvxtxUUSWTPC9LuLCiL+M+G5E7vtMxGsiXhuhECBAgACBoRG46qbbq82XXt1R8i8HnUnCrJ/nDVIZhnEMwxgG6XdCXwgQIECAAAECBBYu0OQE4C/G8DMJeG/Exog3R/xVRF3eHysXR7wy4okRn454TkQ+JvxnEQoBAgQIEBgKgbzb7Pwt11b3xLv+5lKyfp6X5w9CGYZxDMMYBuF3QR8IECBAgAABAgS6K9DkBOB/CIq8q+99EdtnYflWHH9xxNcj/kvEv4tQCBAgQIBA4wXyPXP52O9ck3/1wPO8C7Z+scp2+lmGYRzDMIZ+/g64NgECBAgQIECAwOIJNDkBmHf1Zfn7+xdHfrb/62XyO/7yMeB3ReS7An/uSG0/CBAgQIBAwwXygx+dvPNvpmHeML632rbjzpmqLPqxYRjHMIxh0SfaBQgQIECAAAECBPoi0OQE4IktsVvb5Cba1le0rdern2+t/GC9w5IAAQIECDRZ4PJt7f9ncP4j6VY78+1Bt67frXbmM45uXbtb7cxnDM4hQIAAAQIECBAYToEmJwDrTxwua5ua9tsXHte2v14dba3kh0MUAgQIECDQaIG9EweqK7aPd2UMH9++u8r2+lGGYRzDMIZ+zL1rEiBAgAABAgQI9EagyQnAm1tEj22juivWd7e2X9C2v159bmslvxqsECBAgACBRgvs3jNRHTzU/vaL+Q8n2xm/u/1G+vm3Ndczh2EcwzCGuc6b+gQIECBAgAABAs0RaHIC8LMt5mdO4v54bOd7/n454tS2Yxti/cKI/JfSNW37rRIgQIAAgUYK7J/jV39nG+S+e+f2FeHZ2uv0+DCMYxjG0Ol8qUeAAAECBAgQINA8gSYnAK8I7kz0vXwS+yWx/b2IfMw3vw6cyb6vRFwV8fCILO++f+EnAQIECBBorsAJx07+3tXCxrL8uO6212lvhmEcwzCGTudLPQIECBAgQIAAgeYJND0B+IEg3xbx+Db662P95yPyNoZ8P+BZEd8fUf+r5qJYz7sEFQIECBAg0GiB1StHq6VL8r+FLbwsi3bGTqxflbvw9ubSwjCMYxjGMJc5U5cAAQIECBAgQKBZAk1OAOabyl8dcV7ENyLay5/GxlMi3h7x0YhM+L0n4lkRvxmhECBAgACBxgusGD2m2rR+rCvj2LR+dZXt9aMMwziGYQz9mHvXJECAAAECBAgQ6I1AkxOAswndEBV+NeKlET8c8YaIz0coBAgQIEBgaATO3XBKV8bSrXbm25luXb9b7cxnHN26drfamc8YnEOAAAECBAgQIDCcAk1OAL41piRj03BOjVERIECAAIHZBTauW1WdNrZ89ooz1Dh9bEW1Yd0jZ6ix+IeGYRzDMIbFn2lXIECAAAECBAgQ6IdAkxOAFwXY2yKO6wecaxIgQIAAgUEQGBkZqS7ZfGZ1/Dw/CJLnXbz5aVW2088yDOMYhjH083fAtQkQIECAAAECBBZPoMkJwDtaLN9cPB4tEyBAgACBwRc44+SV1aXnnTXnJGAm//K8PH8QyjCMYxjGMAi/C/pAgAABAgQIECDQXYEmJwBvblGs7i6J1ggQIECAQPMEzj71pGrr+Rs7fhw4H/vN+nneIJVhGMcwjGGQfif0hQABAgQIECBAYOEC/X3eZ2H9f2OcfknEZRGvjVCaJbAmurszu7xz585qzZrcVAgQIEBgoQKHDx+utu24s9qy7Zbqiu3j1cFDh482uWzJSHw1eHWVH5nId/71+7Hfox2bYmUYxjEMY5hiauwiQIAAAQIEGiawa9euau3atXWvc2VXvWFZjkCTE4DHxjR9NuIpEa+L+LMIpTkCEoDNmSs9JUCgoQJ7Jw5U43dPVPvuPVgtP25pNXbiaLVi9JjGjWYYxjEMY2jcL44OEyBAgAABAkcEJAD9IqTAsgYz5KO/PxvxpxHvi3hVxAcjvhTxnYiDETMV7w6cSccxAgQIEGi8QCb7mpjwmww/DOMYhjFMnhfbBAgQIECAAAECzRFocgLwlmCun2vKOxlf2IpYzFryvCaPfdYBqkCAAAECBAgQIECAAAECBAgQIEAgBZqeBGt/hLl93ewSIECAAAECBAgQIECAAAECBAgQIBACTU4AvsYMEiBAgAABAgQIECBAgAABAgQIECAws0CTE4B/NvPQHCVAgAABAgQIECBAgAABAgQIECBAYAkCAgQIECBAgAABAgQIECBAgAABAgSGV0ACcHjn1sgIECBAgAABAgQIECBAgAABAgQIVBKAfgkIECBAgAABAgQIECBAgAABAgQIDLFAk98B+L4FzMvhOPd1CzjfqQQIECBAgAABAgQIECBAgAABAgQaIdDkBOCrQzgTeXMtI3GCBOBc1dQnQIAAAQIECBAgQIAAAQIECBBopECTE4DfDPHZEoAnRJ1VEXXS79uxfk+EQoAAAQIECBAgQIAAAQIECBAgQKAIgSYnAB/X4Qw9Iuq9MuI3Iu6KeGnEDREKAQIECBAgQIAAAQIECBAgQIAAgaEXaHICsNPJ+U5U/MOIT0Zsi/i7iLMicr9CgAABAgSmFNg7caDavWei2n/fweqEY5dWq1eOVitGj5myrp0EShHwd1HKTBsnAQIECBAgMGwCJSQA6znLu/5+L+K/RVwQ8WsRCgECBAgQOCpw+PDh6uodd1Rbrr61uvIr49XBQw+8aWLpkpFq0/qx6twNp1Qb162qRkby7RIKgeEX8Hcx/HNshAQIECBAgMDwC5T2r5ezY0o/HfG1iCcP//QO9AjXRO92Zg937txZrVmTmwoBAgT6J3D9bXuqN2+9rrpxfN+snThtbHl1yeYzqzNOXjlrXRUINFnA30WTZ0/fCRAgQIDA/QK7du2q1q5dW3Pkyq56w7IcgSXlDPXISOt/1T22sHEbLgECBAjMIHDVTbdXmy+9uqPkXzaTScKsn+cpBIZVwN/FsM6scREgQIAAAQIlCpSWAHx6a5IPlDjZxkyAAAECDxXIO5zO33JtdU+8628uJevneXm+QmDYBPxdDNuMGg8BAgQIECBQukBJCcDHx2RfFJEvdLouQiFAgACBwgXy3Wb52O9ck381W553wdYvVtmOQmBYBPxdDMtMGgcBAgQIECBA4AGBJn8E5KcfGMa0a5ngfETEMyJeFnF8RP4r7b0RCgECBAgULpAf/OjknX8zMd0wvrfatuPOauMTVs1UzTECjRHwd9GYqdJRAgQIECBAgEDHAk1OAF4Wo5zLLRf1B0/yS8B/2bGQigQIECAwtAKXb7u1K2PLdiQAu0KpkQEQ8HcxAJOgCwQIECBAgACBLgs0/RHgTOp1EvmCpr+NeFHEmyIUAgQIEChcYO/EgeqK7eNdUfj49t1VtqcQaLqAv4umz6D+EyBAgAABAgSmFmjyHYCPn3pID9p7KLb2Rtz1oL02CBAgQKB4gd17JqqDh+ZyI/n0ZNnO+N0T1YrRY6av5AiBBgj4u2jAJOkiAQIECBAgQGAeAk1OAHbnua15oDmFAAECBJovsH+OX/2dbcT77p3bV4Rna89xAv0Q8HfRD3XXJECAAAECBAgsvkDTHwFefCFXIECAAIGhFDjh2KVdHdfy47rbXlc7pzECHQr4u+gQSjUCBAgQIECAQMMEJAAbNmG6S4AAAQLdEVi9crRauiRfI7vwsizaGTtxdOENaYFAnwX8XfR5AlyeAAECBAgQILBIAk1OAK4Nk3+I+GTEyR34ZJ2sm/HoDuqrQoAAAQJDLJDv69u0fqwrI9y0frX3/3VFUiP9FvB30e8ZcH0CBAgQIECAwOIINDkB+BNBck7EsRG3RcxWsk6+8/CciM0RCgECBAgULnDuhlO6ItCtdrrSGY0QWKBAt36fu9XOAofjdAIECBAgQIAAgRBocgLwJdH//Hzjh+cwk1k3n/d66RzOUZUAAQIEhlRg47pV1Wljyxc0utPHVlQb1j1yQW04mcAgCfi7GKTZ0BcCBAgQIECAQHcEmpwAfFyL4F/mQHFdq+7j53COqgQIECAwpAIjIyPVJZvPrI6f5wdB8ryLNz+tynYUAsMi4O9iWGbSOAgQIECAAAECDwg0OQH4mNYw7npgOLOu1XW/b9aaKhAgQIBAEQJnnLyyuvS8s+acBMzkX56X5ysEhk3A38WwzajxECBAgAABAqULNDkBuL81eavmMIl13fvmcI6qBAgQIDDkAmefelK19fyNHT8OnI/9Zv08TyEwrAL+LoZ1Zo2LAAECBAgQKFEgP4rR1HJLdPwREedE5NeAOykvaFX6ZieV1SFAgACBcgTyjqcr3vi8atuOO6st226prtg+Xh08lK+avb8sWzISXw1eXeWHDfKdfx77rWUsh1nA38Uwz66xESBAgAABAiUJNDkB+PcxUT8Q8QsRfxTxrYiZyslxMOvmv+byXIUAAQIECDxIIJN6G5+w6kjsnThQjd89Ue2792C1/Lil1diJo9WK0WMeVN8GgRIE/F2UMMvGSIAAAQIECAy7QJMTgJn0e1PEwyM+GfGKiC9FTFWeFjv/IiLrHoj4wwiFAAECBAhMK5DJPgm/aXkcKFTA30WhE2/YBAgQIECAQOMFmpwAvDX03xLxjojTI/JrwP8YcVVE3g2Yd/rlxz6eF/H8iPxEY+57a8TXIxQCBAgQIECAAAECBAgQIECAAAECQy/Q5ARgTs47Ix4W8baI/KBJvuOvfs9frB4tmfw7FJH13n50rxUCBAgQIECAAAECBAgQIECAAAECQy7Q5K8A11Pzm7HyjIh8xHdPRCb72uOu2P7ziLMifitCIUCAAAECBAgQIECAAAECBAgQIFCMQNPvAKwn6rpY+amITPw9PuJREVm+HfGNiHz0VyFAgAABAgQIECBAgAABAgQIECBQnMCwJADrictE345W1PssCRAgQIAAAQIECBAgQIAAAQIECBQrMAyPABc7eQZOgAABAgQIECBAgAABAgQIECBAYDaBJt8BuCIG96bWAP84lv+7vbsBt+usC0S/TpO2aZu0SIEEm9yWFFqgFYpUbJTPuTNWUK7MDEbmmaIIV8t1ZlTKRR0Hx+jjx1y9rYKOUhlvI2XGO5nxCx2hFfnmNjN8lY9CP7C2c04lR6DQpi1pQ5L7/yd7tauHc/bZ+2Tvc9Za7+99nv9Za6/1rne/7+/Nzk7+Z33kk3+HlSfGzh8ZVPj1WH5tWGX7CBAgQIAAAQIECBAgQIAAAQIECPRBoMtnAL4sJmBXxD+PWC75F1WqfYO6+STgl+YGhQABAgQIECBAgAABAgQIECBAgEDfBbqcAPwnMTl5z789I05S1s0nBeeDQr5/xGNUI0CAAAECBAgQIECAAAECBAgQINBpgS4nAJ86kP//xpiBGwZ1nz7GMaoSIECAAAECBAgQIECAAAECBAgQ6KxAlxOAWwfqo1z+W09QXgac5axjCz8JECBAgAABAgQIECBAgAABAgQI9Fugyw8BOTyYmlPHmKK6bpfHPcZwVSVAgAABAgQIEFgosP/AwWrfPQeq+x86VJ120rpqyxkbqk0bTlxYrdWv+zCGVgPrHAECBAgQ6JlAlxNheebfUyIujhj1MuCsm6U+E/DYKz8JECBAgAABAgR6LXDkyJHqhtu/XF17w53V9Z+drw4dzttDHyvrTpipLr1gc3XZJWdXO7afWc3M5C2j21f6MIb2qeoRAQIECBAoQ6Cd/7oZzf6tUe01EbdGfEvEwYhhJX+t++mITBpeG/GqCGXtBPIS7tl8+9nZ2Wrr1vqK7rXrkHcmQIAAAQIE+inwmbvuqa7Yc2N16/x9yw7wvM0bq6t2XlRdeNYZy9ZdzQp9GMNqenkvAgQIEHhEYG5urtq2bVu9IVfm6heW5Qh0+R6A1wymKRN6/ymivrx3sdnLfX8Ycd5gZ33sYnVtI0CAAAECBAgQ6InAB2/7YrXz6htGSv7lkDNJmPXzuLaUPoyhLZb6QYAAAQIEShXocgIwL/v9fyPyLMZ/EvG5iDdGvCAiE32ZGMz1n4vIff844kjEf414f4RCgAABAgQIECDQY4E8a+7yaz9WPRD3+hunZP08Lo9f69KHMay1ofcnQIAAAQIEqqrLCcCcv1dHvDsik4B5DekvRLwnIhN+Nw/Wd8UyT3HNOln3hyIUAgQIECBAgACBHgvk/fLyst9xk381SR73+j2frLKdtSp9GMNa2XlfAgQIECBA4NECXU8AHojhXBrxkxF3RWSSb7HIe839eMR3R+QxCgECBAgQIECAQI8F8oEfo9zzbxjBLfP7q7233z2sylT39WEMUwXSOAECBAgQIDCyQJefAlwPMn8t++aI34q4KOJZEY+LyPKliI9HfDJi7X59G2+uECBAgAABAgQIrJ7A2/feOZE3y3Z2nHvmRNoat5E+jGHcMatPgAABAgQITEegDwnAWiYTfJ8YRL3NkgABAgQIECBAoDCB/QcOVtfdND+RUb/rpn1Vtrdpw4kTaW/URvowhlHHqh4BAgQIECAwfYGuXwI8fSHvQIAAAQIECBAg0CmBffccqA4dnszFH9nO/L2rfweZPoyhU39odJYAAQIECPRcoC9nAOZ9//Ly32dG5OW/p0TktmHlF4fttI8AAQIECBAgQKCbAveP+dTf5UZ534PjPUV4ufZG2d+HMYwyTnUIECBAgACB1RHoQwLwh4Lq5yPOHpNMAnBMMNUJECBAgAABAl0QOO2kdRPt5saTJ9veKJ3rwxhGGac6BAgQIECAwOoIdD0B+MvB9DMRy53tl5p5Hcgo9bKuQoAAAQIECBAg0FGBLWdsqNadMDORy4DXRzubT9+w6hJ9GMOqo3lDAgQIECBAYEmBLt8D8NtjVP96MLK/imVeAvytg9eZ7Mtf1T4+4sUR74jI5N+HIp4Y0eVxR/cVAgQIECBAgACBpQTygR2XXrB5qd1jbb/0gi2r/gCQ7GAfxjAWtMoECBAgQIDAVAW6nAj7PwYyd8byeyI+FXFwsC0XmQT8csR1ES+L+BcRz414V8RJEQoBAgQIECBAgEBPBS67ZNy7wywOMal2Fm99+NZJvfek2hneW3sJECBAgACBNgt0OQH4HQGbSb43R3x9BOTfjTp/FPGMiB8bob4qBAgQIECAAAECHRXYsf3M6rzNG4+r9+dv3lRdsv2xx9XG8RzchzEcz/gdS4AAAQIECExOoMsJwLyUN8tNxxZHfx5urJ/YWK9Xr42VvBT4B+oNlgQIECBAgAABAv0TmJmZqa7aeVF16gofCJLHXbnzmVW2s1alD2NYKzvvS4AAAQIECDxaoMsJwDrB9/eNId3XWM/7/y0sc4MNT164w2sCBAgQIECAAIF+CVx41hnV1a989thJwEz+5XF5/FqXPoxhrQ29PwECBAgQINDth2F8cTCBpzcmcj7WDw1eP62xvV6tzxrcVG+wJECAAAECBAgQ6K/A857y+GrP5TtGvhw4L/vN+nlcW0ofxtAWS/0gQIAAAQKlCqzv8MDz0t9vjnhqxAcH43golrn9WyLyMt+/jmiWVw5e/F1zo3UCBAgQIECAAIH+CuRZdNf95POrvbffXV27947qupvmq0OH81bSx8r6E2biqcFbqnxYRt7zby0v+637tHDZhzEsHJPXBAgQIECAwOoJdDkBmEm/74p4UcRbG2T/OdbzQR+vjvhCxJ6I0yJeFbEzIv+1984IhQABAgQIECBAoBCBTOrtOPfMo7H/wMFq/t4D1X0PHqo2nryu2nz6hmrThvruMu0F6cMY2qurZwQIECBAoN8Ca3dX4+N3vSCa+HRE3vdva8S9EVlOjfhMxDkRj/xqN15EyfHeHXFRRH0/wFhV1kAg52w233d2drbaujVfKgQIECBAgAABAgQIECBAgMAkBebm5qpt27bVTeaKfEitUdCyyw8ByUt98+y/fxzRPJPxgcH2D8cyE37NyMTg/xrhD3sgKAQIECBAgAABAgQIECBAgAABAv0XaCbOujja9y/R6Ttj+/Mizo/IMwVznLdFfCJCIUCAAAECBAgQIECAAAECBAgQIFCMQNcTgMtN1C1RIUMhQIAAAQIECBAgQIAAAQIECBAgUKRAly8BLnLCDJoAAQIECBAgQIAAAQIECBAgQIDAOAISgONoqUuAAAECBAgQIECAAAECBAgQIECgYwISgB2bMN0lQIAAAQIECBAgQIAAAQIECBAgMI6ABOA4WuoSIECAAAECBAgQIECAAAECBAgQ6JiABGDHJkx3CRAgQIAAAQIECBAgQIAAAQIECIwjIAE4jpa6BAgQIECAAAECBAgQIECAAAECBDomIAHYsQnTXQIECBAgQIAAAQIECBAgQIAAAQLjCEgAjqOlLgECBAgQIECAAAECBAgQIECAAIGOCUgAdmzCdJcAAQIECBAgQIAAAQIECBAgQIDAOALrx6msLgECBAgQIECAAAECBCYlsP/AwWrfPQeq+x86VJ120rpqyxkbqk0bTpxU86vSTh/GkFB9GceqTLo3IUCAQAcFJAA7OGm6TIAAAQIECBAgQKCrAkeOHKluuP3L1bU33Fld/9n56tDhIw8PZd0JM9WlF2yuLrvk7GrH9jOrmZmZh/e1aaUPY0jPvoyjTX829IUAAQJtFWjnN2pbtfRrkgJbo7HZbHB2drbaujVfKgQIECBAgAABAn0W+Mxd91RX7LmxunX+vmWHed7mjdVVOy+qLjzrjGXrrmaFPowhvfoyjtWce+9FoKsCc3Nz1bZt2+ru58pc/cKyHAH3ACxnro2UAAECBAgQIECAwJoJfPC2L1Y7r75hpORfdjKThFk/j2tL6cMY0rIv42jLnwv9IECAQBcEJAC7MEv6SIAAAQIECBAgQKDDAnm22eXXfqx6IO71N07J+nlcHr/WpQ9jSMO+jGOt/zx4fwIECHRNQAKwazOmvwQIECBAgAABAgQ6JJD3mcvLfsdN/tVDzONev+eTR+9XV29b7WUfxpBmfRnHas+/9yNAgEAfBCQA+zCLxkCAAAECBAgQIECgpQL5wI9R7vk3rPu3zO+v9t5+97AqU93XhzEkUF/GMdXJ1jgBAgR6KiAB2NOJNSwCBAgQIECAAAECbRB4+947J9KNSbWzks5M6r0n1c5KxpDHTOr9J9XOSsfhOAIECBAYX0ACcHwzRxAgQIAAAQIECBAgMILA/gMHq+tumh+h5vJV3nXTvirbW+3ShzGkWV/Gsdrz7/0IECDQFwEJwL7MpHEQIECAAAECBAgQaJnAvnsOVIcOH5lIr7Kd+XsPTKStcRrpwxhyvH0Zxzhzpy4BAgQIPCIgAfiIhTUCBAgQIECAAAECBCYocP+YT/1d7q3ve3C8pwgv194o+/swhhxnX8YxypypQ4AAAQLfKCAB+I0mthAgQIAAAQIECBAgMAGB005aN4FWHmli48mTbe+Rlpde68MYcnR9GcfSM2UPAQIECAwTkAAcpmMfAQIECBAgQIAAAQIrFthyxoZq3QkzKz6+eeD6aGfz6Ruam1ZlvQ9jSKi+jGNVJt2bECBAoIcCEoA9nFRDIkCAAAECBAgQINAGgU0bTqwuvWDzRLpy6QVbqmxvtUsfxpBmfRnHas+/9yNAgEBfBCQA+zKTxkGAAAECBAgQIECghQKXXXL2RHo1qXZW0plJvfek2lnJGPKYSb3/pNpZ6TgcR4AAAQLjC0gAjm/mCAIECBAgQIAAAQIERhTYsf3M6rzNG0esvXi18zdvqi7Z/tjFd67C1j6MIZn6Mo5VmHJvQYAAgd4JSABOZ0rz15xXRtwccX/E3REfiXhDxKkRkyjnRiNvirgpYn9Evs8tEW+OOD9iWNkVO4+MGXmMQoAAAQIECBAgQGAsgZmZmeqqnRdVp67wgSB53JU7n1llO2tV+jCGtOvLONbqz4H3JUCAQJcFJAAnP3svjSY/FXFFRCbiMuH3TREXR/xaxCcinhxxPOXyOPhzET8e8fSI/JVqvs95Ef8q4saIV0dMsmRyUSFAgAABAgQIECAwtsCFZ51RXf3KZ4+dBMzkXx6Xx6916cMY0rAv41jrPw/enwABAl0TWLtfo3VNarT+PiuqfTjilIj7In414r2D16+I5Y9EZLk1IhOCeebeuCXb+cPBQffEMs80fE/EgxH5/j8VkQnGwxHfF/EXEQvLE2JDxrCyLnZ+IOL0iHsjtkR8LWJSZWs0NJuNzc7OVlu35kuFAAECBAgQIECgzwKfueue6oo9N1a3zuc/lYeXvOw3z/xrQ/Kv2dM+jCHH05dxNOfGOgECiwvMzc1V27Ztq3fmylz9wrIcAQnAyc71+6O550d8fbC8YUHzeQlwngWY5RciduXKGCXP8vvbiEze5b+adkR8JqJZMmH3oYhvibgz4vyITA6OW14cB/zl4KDfj+X/Pm4Dy9SXAFwGyG4CBAgQIECAQB8Fjhw5Uu29/e7q2r13VNfdNF8dOpx3pjlW1p8wE08N3nL0YRV5z7+1vOy37tNiyz6MIcfVl3EsNke2ESDwiIAE4CMWJa9JAE5u9p8TTf33QXNXx/K1izSdl1xnwu5pEV+NyETewYhRy8uj4n8ZVP7lWL5xiQP/YWz/q8G+H4rl25aoN2xznmWYZxtmeUFEng04ySIBOElNbREgQIAAAQIEOiiw/8DBav7eA9V9Dx6qNp68rtp8+oZq04YTOzWSPowhwfsyjk794dFZAqskIAG4StAtf5v1Le9fl7r3skZnr2msN1fzstxMxv1qxGMiXhRxfcSo5eJGxXc21heuvi82HIjYEJFJw3ETgHkWYV4+nOVvIz54dM0PAgQIECBAgAABAhMUyGRf1xJ+C4ffhzHkmPoyjoXz4zUBAgQIHBM4AcTEBJ47aCmfxvuxIa2+v7HvOxvro6ye2ag031hfuPr12HD3YOPzFu4c4fX3R51TBvWujeWREY5RhQABAgQIECBAgAABAgQIECBAoIUCEoCTm5S8rDfL5yMyAbdUubmxoz6msWno6n2NvcMehZaXdudZfFnyTMMnHl0b/ccPNqqOe/Zg41CrBAgQIECAAAECBAgQIECAAAECay3gEuDJzEBeavu4QVNzyzT5ldifZwmeFvHwY3iWOabe/bl6JZZ5X76lzjTMpwFvbNTN9/lC4/Ww1bNjZ33WYD7R+G+GVR6yb+uQfbkrnyqsECBAgAABAgQIECBAgAABAgQITFlAAnAywJsazTTP0mtsftRqnQBsJukeVWGJF/lU3nxoSN4Z+YqIPDvvSxHNkmd15gNCmqXZv+b2xdbz7L/64TB/sFiFEbfNjlhPNQIECBAgQIAAAQIECBAgQIAAgSkKuAR4Mrh5BmBdHqpXhiwfHOyr77M3pOqjduXZhb872HJWLPMMvXxYR17um324JCKThN8d0ezHOO9zWRybJR8isufomh8ECBAgQIAAAQIECBAgQIAAAQKdFXAG4GSmLpNldTmpXhmyPHmw72tD6iy16w2x40kRL404L+JPIxaWvGz3HRGvG+zYv7DCEq8zgZhtZvmziHuOrq3sR152PKxsiZ0fGVbBPgIECBAgQIAAAQIECBAgQIAAgeMXcAbg8RtmC80E2yiX9eb9/7KMcrnwsZqP/Mwz+/Ksv1dH5D0AD0fUJe8v+KaIb41ozm1uH6VM8uEfebbisNg3SofUIUCAAAECBAgQIECAAAECBAgQOD4BZwAen199dJ4BmPfiyweBLPfwi2+KOnUCcKX3yTsSbVwziEw4bo7Iy4rzQR+HIrI849ji6BOJbx2sD1vkmYs/MKgwH8vrhlW2jwABAgQIECBAgAABAgQIECBAoBsCzbPEutHj9vbyc4OuPTmWwxKrT20MoT6msWns1TyLMC/5zbPt6uRfXmJ8cUSWT0U0L1E+unGRH98b2x472P4fY1m3tUhVmwgQIECAAAECBAgQIECAAAECBLoiIAE4uZn60KCpPLvv2UOafUFjXz7EYxol7w9YP/l31Ad5TPLy32mMSZsECBAgQIAAAQIECBAgQIAAAQIrEJAAXAHaEoc0H8bxw0vUSe860fbVWH/vEvWOZ/OJcfCuQQMPxHL3YH3Y4szY+ZJBhU/GMkMhQIAAAQIECBAgQIAAAQIECBDogYAE4OQm8X9EUx8cNPeaWO5YpOnXx7anDbbnwzoOLqjzwnid9/fL2B2xWMn7DJ6y2I7YlvfxuybigsH+n49l3s9vufLPokImDrO87djCTwIECBAgQIAAAQIECHRLYP+Bg9Vt8/urG2e/enSZrxUCBAgQGH6vOj7jC/xEHPLhiEzQXR/xKxHvHbx+RSx/NCJLPpTjyqNr4/94YRzy1oi3R7w7Ih8kcmrEsyJeG/H0iCx/HPEbR9eW/1GflZj3/fuPy1dXgwABAgQIECBAgAABAu0QOHLkSHXD7V+urr3hzur6z85Xhw7n+RTHyroTZqpLL9hcXXbJ2dWO7WdWMzMz9S5LAgQIFCWwvqjRTn+wn4i3yCfpZnLu9IhMAC4smfz7noj9C3eM8foxUfdfDmLhYflt95aITEaO8iCP86Pet0VkySf/jnLG4NHKfhAgQIAAAQIECBAgQGAtBT5z1z3VFXturG6dz2cjfmPJZOBffnrf0Thv88bqqp0XVReedcY3VrSFAAECPRdwCfDkJ/jPo8lnROTZd5nsy/vw5f3+Phrx0xF5pt7nI1Za8jLjN0S8K+KOiGw/v+1uifidiEzm/VjEqOe612f/xSEu/00EhQABAgQIECBAgACB9gt88LYvVjuvvmHJ5N/CEWSSMOvncQoBAgRKE3D+c2kz3p7xbo2u5OXL1ezsbLV1a75UCBAgQIAAAQIECBAgsLxAnvmXybwHHhrloqdHt3fqSeuqPZfvcCbgo1m86rHA3NxctW3btnqEuTJXv7AsR8AZgOXMtZESIECAAAECBAgQIECg8wJ5z7+87Hclyb8cfB73+j2frLIdhQABAqUISACWMtPGSYAAAQIECBAgQIAAgR4I5AM/lrrn36jDuyWeFLz39rtHra4eAQIEOi8gAdj5KTQAAgQIECBAgAABAgQIlCPw9r13TmSwk2pnIp3RCAECBKYsIAE4ZWDNEyBAgAABAgQIECBAgMBkBPYfOFhdd9P8RBp71037qmxPIUCAQAkCEoAlzLIxEiBAgAABAgQIECBAoAcC++45UB06PJl792U78/ce6IGKIRAgQGB5AQnA5Y3UIECAAAECBAgQIECAAIEWCNy/gqf+Duv2fQ+O/xThYe3ZR4AAgbYKSAC2dWb0iwABAgQIECBAgAABAgQeJXDaSese9fp4X2w8ebLtHW9/HE+AAIFpCUgATktWuwQIECBAgAABAgQIECAwUYEtZ2yo1p0wM5E210c7m0/fMJG2NEKAAIG2C0gAtn2G9I8AAQIECBAgQIAAAQIEjgps2nBidekFmyeicekFW6psTyFAgEAJAhKAJcyyMRIgQIAAAQIECBAgQKAnApddcvZERjKpdibSGY0QIEBgygISgFMG1jwBAgQIECBAgAABAgQITE5gx/Yzq/M2bzyuBs/fvKm6ZPtjj6sNBxMgQKBLAhKAXZotfSVAgAABAgQIECBAgEDhAjMzM9VVOy+qTl3hA0HyuCt3PrPKdhQCBAiUIiABWMpMGycBAgQIECBAgAABAgR6InDhWWdUV7/y2WMnATP5l8fl8QoBAgRKEpAALGm2jZUAAQIECBAgQIAAAQI9EXjeUx5f7bl8x8iXA+dlv1k/j1MIECBQmsD60gZsvAQIECBAgAABAgQIECDQD4E8k++6n3x+tff2u6tr995RXXfTfHXo8JGHB7f+hJl4avCWKh/4kff8c9nvwzRWCBAoTEACsLAJN1wCBAgQIECAAAECBAj0SSCTejvOPfNo7D9wsJq/90B134OHqo0nr6s2n76h2rThxD4N11gIECCwIgEJwBWxOYgAAQIECBAgQIAAAQIE2iaQyT4Jv7bNiv4QINAGAfcAbMMs6AMBAgQIECBAgAABAgQIECBAgACBKQlIAE4JVrMECBAgQIAAAQIECBAgQIAAAQIE2iAgAdiGWdAHAgQIECBAgAABAgQIECBAgAABAlMSkACcEqxmCRAgQIAAAQIECBAgQIAAAQIECLRBQAKwDbOgDwQIECBAgAABAgQIECBAgAABAgSmJCABOCVYzRIgQIAAAQIECBAgQIAAAQIECBBog4AEYBtmQR8IECBAgAABAgQIECBAgAABAgQITElAAnBKsJolQIAAAQIECBAgQIAAAQIECBAg0AYBCcA2zII+ECBAgAABAgQIECBAgAABAgQIEJiSgATglGA1S4AAAQIECBAgQIAAAQIECBAgQKANAhKAbZgFfSBAgAABAgQIECBAgAABAgQIECAwJQEJwCnBapYAAQIECBAgQIAAAQIECBAgQIBAGwQkANswC/pAgAABAgQIECBAgAABAgQIECBAYEoCEoBTgtUsAQIECBAgQIAAAQIECBAgQIAAgTYISAC2YRb0gQABAgQIECBAgAABAgQIECBAgMCUBCQApwSrWQIECBAgQIAAAQIECBAgQIAAAQJtEJAAbMMs6AMBAgQIECBAgAABAgQIECBAgACBKQlIAE4JVrMECBAgQIAAAQIECBAgQIAAAQIE2iAgAdiGWdAHAgQIECBAgAABAgQIECBAgAABAlMSkACcEqxmCRAgQIAAAQIECBAgQIAAAQIECLRBQAKwDbOgDwQIECBAgAABAgQIECBAgAABAgSmJCABOCVYzRIgQIAAAQIECBAgQIAAAQIECBBog4AEYBtmQR8IECBAgAABAgQIECBAgAABAgQITElAAnBKsJolQIAAAQIECBAgQIAAAQIECBAg0AYBCcA2zII+ECBAgAABAgQIECBAgAABAgQIEJiSgATglGA1S4AAAQIECBAgQIAAAQIECBAgQKANAhKAbZgFfSBAgAABAgQIECBAgAABAgQIECAwJQEJwCnBapYAAQIECBAgQIAAAQIECBAgQIBAGwQkANswC/pAgAABAgQIECBAgAABAgQIECBAYEoCEoBTgtUsAQIECBAgQIAAAQIECBAgQIAAgTYISAC2YRb0gQABAgQIECBAgAABAgQIECBAgMCUBCQApwSrWQIECBAgQIAAAQIECBAgQIAAAQJtEJAAbMMs6AMBAgQIECBAgAABAgQIECBAgACBKQlIAE4JVrMECBAgQIAAAQIECBAgQIAAAQIE2iAgAdiGWdAHAgQIECBAgAABAgQIECBAgAABAlMSkACcEqxmCRAgQIAAAQIECBAgQIAAAQIECLRBQAKwDbOgDwQIECBAgAABAgQIECBAgAABAgSmJCABOCVYzRIgQIAAAQIECBAgQIAAAQIECBBog4AEYBtmQR8IECBAgAABAgQIECBAgAABAgQITElAAnBKsJolQIAAAQIECBAgQIAAAQIECBAg0AYBCcA2zII+ECBAgAABAgQIECBAgAABAgQIEJiSgATglGA1S4AAAQIECBAgQIAAAQIECBAgQKANAhKAbZgFfSBAgAABAgQIECBAgAABAgQIECAwJQEJwCnBapYAAQIECBAgQIAAAQIECBAgQIBAGwQkANswC/pAgAABAgQIECBAgAABAgQIECBAYEoCEoBTgtUsAQIECBAgQIAAAQIECBAgQIAAgTYISAC2YRb0gQABAgQIECBAgAABAgQIECBAgMCUBCQApwSrWQIECBAgQIAAAQIECBAgQIAAAQJtEJAAbMMs6AMBAgQIECBAgAABAgQIECBAgACBKQlIAE4JVrMECBAgQIAAAQIECBAgQIAAAQIE2iAgAdiGWdAHAgQIECBAgAABAgQIECBAgAABAlMSkACcEqxmCRAgQIAAAQIECBAgQIAAAQIECLRBQAKwDbOgDwQIECBAgAABAgQIECBAgAABAgSmJCABOCVYzRIgQIAAAQIECBAgQIAAAQIECBBog4AEYBtmQR8IECBAgAABAgQIECBAgAABAgQITElAAnBKsJolQIAAAQIECBAgQIAAAQIECBAg0AYBCcA2zII+ECBAgAABAgQIECBAgAABAgQIEJiSgATglGA1S4AAAQIECBAgQIAAAQIECBAgQKANAhKAbZgFfSBAgAABAgQIECBAgAABAgQIECAwJQEJwCnBapYAAQIECBAgQIAAAQIECBAgQIBAGwQkANswC/pAgAABAgQIECBAgAABAgQIECBAYEoCEoBTgtUsAQIECBAgQIAAAQIECBAgQIAAgTYISAC2YRb0gQABAgQIECBAgAABAgQIECBAgMCUBCQApwSrWQIECBAgQIAAAQIECBAgQIAAAQJtEJAAbMMs6AMBAgQIECBAgAABAgQIECBAgACBKQlIAE4JVrMECBAgQIAAAQIECBAgQIAAAQIE2iAgAdiGWdAHAgQIECBAgAABAgQIECBAgAABAlMSkACcEqxmCRAgQIAAAQIECBAgQIAAAQIECLRBQAKwDbOgDwQIECBAgAABAgQIECBAgAABAgSmJCABOCVYzRIgQIAAAQIECBAgQIAAAQIECBBog4AEYBtmQR8IECBAgAABAgQIECBAgAABAgQITElAAnBKsJolQIAAAQIECBAgQIAAAQIECBAg0AYBCcA2zII+ECBAgAABAgQIECBAgAABAgQIEJiSgATglGA1S4AAAQIECBAgQIAAAQIECBAgQKANAhKAbZgFfSBAgAABAgQIECBAgAABAgQIECAwJQEJwCnBapYAAQIECBAgQIAAAQIECBAgQIBAGwQkANswC/pAgAABAgQIECBAgAABAgQIECBAYEoC66fUrmYJECBAgAABAgQIECBAgACBMQX2HzhY7bvnQHX/Q4eq005aV205Y0O1acOJY7ay9tX7MI4+jGHt/yToQVsEJADbMhP6QYAAAQIECBAgQIAAAQJFChw5cqS64fYvV9fecGd1/Wfnq0OHjzzssO6EmerSCzZXl11ydrVj+5nVzMzMw/vattKHcfRhDG37c6E/7RBo798c7fDRi+kJbI2mZ7P52dnZauvWfKkQIECAAAECBAgQIECgLIHP3HVPdcWeG6tb5+9bduDnbd5YXbXzourCs85Ytu5qV+jDOPowhsXmfW5urtq2bVu9K1fm6heW5Qi4B2A5c22kBAgQIECAAAECBAgQINAigQ/e9sVq59U3jJT8y25nkjDr53FtKn0YRx/G0KY/E/rSPgEJwPbNiR4RIECAAAECBAgQIECAQM8F8myzy6/9WPVA3OtvnJL187g8vg2lD+Powxja8GdBH9otIAHY7vnROwIECBAgQIAAAQIECBDomUDeZy4v+x03+Vcz5HGv3/PJKttZy9KHcfRhDGv5Z8B7d0dAArA7c6WnBAgQIECAAAECBAgQINADgXzgxyj3/Bs21Fvm91d7b797WJWp7+vDOPowhqlPtDfohYAEYC+m0SAIECBAgAABAgQIECBAoCsCb99750S6Oql2VtqZSb3/pNpZyTgm9d6TamclY3AMgVEEJABHUVKHAAECBAgQIECAAAECBAhMQGD/gYPVdTfNT6ClqnrXTfuqbG8tSh/G0YcxrMXce89uCkgAdnPe9JoAAQIECBAgQIAAAQIEOiiw754D1aHDk7l3X7Yzf++BNVHowzj6MIY1mXxv2kkBCcBOTptOEyBAgAABAgQIECBAgEAXBe4f86m/y43xvgfHe4rwcu2Nur8P4+jDGEadL/UISAD6M0CAAAECBAgQIECAAAECBFZJ4LST1k30nTakaMEpAAArGklEQVSePNn2Ru1cH8bRhzGMOl/qEZAA9GeAAAECBAgQIECAAAECBAisksCWMzZU606Ymci7rY92Np++YSJtjdtIH8bRhzGMO2/qlysgAVju3Bs5AQIECBAgQIAAAQIECKyywKYNJ1aXXrB5Iu966QVbqmxvLUofxtGHMazF3HvPbgpIAHZz3vSaAAECBAgQIECAAAECBDoqcNklZ0+k55NqZ6WdmdT7T6qdlYxjUu89qXZWMgbHEBhFQAJwFCV1CBAgQIAAAQIECBAgQIDAhAR2bD+zOm/zxuNq7fzNm6pLtj/2uNo43oP7MI4+jOF459HxZQhIAJYxz0ZJgAABAgQIECBAgAABAi0RmJmZqa7aeVF16gofCJLHXbnzmVW2s5alD+PowxjW8s+A9+6OgARgd+ZKTwkQIECAAAECBAgQIECgJwIXnnVGdfUrnz12EjCTf3lcHt+G0odx9GEMbfizoA/tFpAAbPf86B0BAgQIECBAgAABAgQI9FTgeU95fLXn8h0jXw6cl/1m/TyuTaUP4+jDGNr0Z0Jf2iewtucLt89Dj1ZPYGu81Wy+3ezsbLV1a75UCBAgQIAAAQIECBAgUJ7AkSNHqr23311du/eO6rqb5qtDh488jLD+hJl4avCWKh8ykff8W+vLfh/u2CIrfRhHH8awcGrm5uaqbdu21ZtzZa5+YVmOgARgOXPdtpFKALZtRvSHAAECBAgQIECAAIE1F9h/4GA1f++B6r4HD1UbT15XbT59Q7Vpw4lr3q9xO9CHcfRhDDlvEoDj/untZ/31/RyWUREgQIAAAQIECBAgQIAAge4JZLKviwm/hdJ9GEcfxrBwXrwuV8A9AMudeyMnQIAAAQIECBAgQIAAAQIECBAoQEACsIBJNkQCBAgQIECAAAECBAgQIECAAIFyBSQAy517IydAgAABAgQIECBAgAABAgQIEChAQAKwgEk2RAIECBAgQIAAAQIECBAgQIAAgXIFJADLnXsjJ0CAAAECBAgQIECAAAECBAgQKEBAArCASTZEAgQIECBAgAABAgQIECBAgACBcgUkAMudeyMnQIAAAQIECBAgQIAAAQIECBAoQEACsIBJNkQCBAgQIECAAAECBAgQIECAAIFyBSQAy517IydAgAABAgQIECBAgAABAgQIEChAQAKwgEk2RAIECBAgQIAAAQIECBAgQIAAgXIFJADLnXsjJ0CAAAECBAgQIECAAAECBAgQKEBAAnA6k3x2NHtlxM0R90fcHfGRiDdEnBoxiXJuNPKmiJsi9kfk+9wS8eaI8yPGKadE5ddG/FXEXREPRsxHfCLityO+K0IhQIAAAQIECBAgQIAAAQIECBDooMBMB/vc9i6/NDr49ojTl+jorbH9eyI+v8T+UTZfHpV+K+LEJSofiO3/IuL/WWJ/c/N3xItrI7Y3Ny5Y/2S8vmjBtuN9uTUamM1GZmdnq61b86VCgAABAgQIECBAgAABAgQITFJgbm6u2rZtW91krszVLyzLEVhfzlBXZaTPinf5zxF5Rt19Eb8a8d7B61fE8kcizov4bxEXR+SZe+OWbOctg4PuiWWeafieiDxrL9//pyKeHPHWiL+P+IuIpcp3xo7rIk6LyDMIfy/i3RH7Ih4X8aSI747YEqEQIECAAAECBAgQIECAAAECBAh0UEACcLKT9pvRXCb/vh6Rl83eEFGXTNLdFvFrEZkEfH3ErohxSl4+/KbBAZlgfG7EZwavc/HRiExAfijiWyJ+OyIv683k4MJyRmzYE5HJv7+J+IcRd0QsLFfHhqXONFxY12sCBAgQIECAAAECBAgQIECAAIGWCbgH4OQm5DnR1PMHzf1+LJvJv/pd8my9zw1e/EQsx02svSSOecLg+EwENpN/g83VvbFyxeBF3ovwB+odC5Y/H6+/OSKTlS+PuCNiqXJwqR22EyBAgAABAgQIECBAgAABAgQItFtAAnBy8/OyRlPXNNabq4fjxdsGGx4Tyxc1d46wfnGjzjsb6wtX3xcbDgw2ZnJvYcmzFH94sPFPY3njwgpeEyBAgAABAgQIECBAgAABAgQI9ENAAnBy85iX42bJe+l97Oja4j/e39ic9+Abp5zZqDzfWF+4mmf15ZOHszzv2OJRP/9RvMoEZJb/cmxx9OfG+PmUiM0RM0e3+EGAAAECBAgQIECAAAECBAgQINBpAQnAyU3f0wZNfT6WmYBbqtzc2FEf09g0dPW+xt68h99SJZN39VOIM9H3xAUVv73xOi9VflFEJibzoST5lOJ8CMjfRfxmxOMjFAIECBAgQIAAAQIECBAgQIAAgY4KeAjIZCZuQzTzuEFTc8s0+ZXYn2cJ5sM38vHb45TPNSq/INaXOtMwnwacZ/PVJd/nC/WLWD59sJ739vu+iDdHLDzjL5/8m/cpzEuIXxzx6YhxytZlKnuy8DJAdhMgQIAAAQIECBAgQIAAAQIEJiHgDMBJKFbVpkYzzbP0GpsftZoJwCzNJN2xLcN//mXsrh/IkQ/6qJOOzaNyTn+5uSHWm/3LXY8d7M+kX57ll2csvjHif4k4OeKCiN0RWc6K+NOIhW3kvmFlNnYOi48MO9g+AgQIECBAgAABAgQIECBAgACByQhIAE7GMc8ArMtD9cqQ5YODfacMqbPYrjy78HcHOzIx9+GIPIMvL/fNPlwSkUnC745o9mPh++TZh1nyDNB1Ea+JyKRhJuzyuM9G/HDE70Vk2R7x2qNrfhAgQIAAAQIECBAgQIAAAQIECHRKwCXAk5muA41mTmqsL7WaZ9ll+dqxxVg/3xC1nxTx0ojzIvLsvIXlb2LDOyJeN9iR9/ZrlmZ/PxU7rm3ubKz/bKz/UET29xURvx4xalnu8uYt0ZCzAEfVVI8AAQIECBAgQIAAAQIECBAgsEIBZwCuEG7BYc0E2yiX9dZn4I1yufCCtzp6hl6e9ffqiI9FHG5U+EqsvyniWyOac5vbm6XZ3+ubOxasfzlef3Sw7ZmxPHHB/mEv82zFYbFv2MH2ESBAgAABAgQIECBAgAABAgQITEbAGYCTccwz6r4UkffkW+7hF98UdeoEYF5yu5JyJA66ZhCZcNwckZcV54M+DkVkecaxxdH7+906WK8Xzfdtrtf7m8t6/7rYmPcOnG/utE6AAAECBAgQIECAAAECBAgQINBugeZZYu3uaft7Vz+h98nR1WGJ1ac2hlIf09g09mqeRZiX/ObZdnXyLy/ZvTgiS17i27zkN7flPf7qkom9YaW5v25/WH37CBAgQIAAAQIECBAgQIAAAQIEWiQgATi5yfjQoKk8u+/ZQ5p9QWNfPsRjGiXvD7hp0PCeRd7gA41t2xvri62eO9iYScS7F6tgGwECBAgQIECAAAECBAgQIECAQHsFJAAnNzfNh3HkE3QXK+n9g4MdX43lexerdJzb8j59uwZtPBDL3YP15uLj8eKOwYZMFjbP8htsPrrIh41cNNiQycrm/QYHmy0IECBAgAABAgQIECBAgAABAgTaLCABOLnZ+R/R1AcHzb0mljsWafr1se1pg+35sI6DC+q8MF7n/f0ydkcsVvI+g6cstiO25ROIr4m4YLD/52O51D37fm1Q5+xY/txgvbnIy5h/J6L+M/KW5k7rBAgQIECAAAECBAgQIECAAAEC3RDIJI8yOYGfiKbyTLlM0OXTdX8l4r2D16+I5Y9GZMmHclx5dG38Hy+MQ94a8faId0fMRpwa8ayI10Y8PSLLH0f8xtG1xX9kG5dFfEdEJgrPj/iDiL+PODfidRF1EvMvY/2PIhQCBAgQIECAAAECBAgQIECAAIGOCUgATnbCPhHN/UBEJudOj8gE4MKSyb/vidi/cMcYrx8Tdf/lIBYediQ25Nl6mYwc9tCOr8f+/y3iHRGZBMwEZcbC8s7YkNuzXYUAAQIECBAgQIAAAQIECBAgQKBjAvXlnR3rdqu7++fRu2dE5Nl3mezL+/Dl/f4+GvHTEXmm3ucjVlryMuM3RLwr4o6IbD+fBHxLRF6y+20RPxax8PLi2PQN5cux5XkRecnyeyLy7L88Li8bznG8POIlEceTrIzDFQIECBAgQIAAAQIECBAgQIAAgbUSmFmrN/a+xQtsDYG8fLmanZ2ttm7NlwoBAgQIECBAgAABAgQIECAwSYG5ublq27ZtdZO5Mle/sCxHwBmA5cy1kRIgQIAAAQIECBAgQIAAAQIECBQoIAFY4KQbMgECBAgQIECAAAECBAgQIECAQDkCEoDlzLWREiBAgAABAgQIECBAgAABAgQIFCggAVjgpBsyAQIECBAgQIAAAQIECBAgQIBAOQISgOXMtZESIECAAAECBAgQIECAAAECBAgUKCABWOCkGzIBAgQIECBAgAABAgQIECBAgEA5AhKA5cy1kRIgQIAAAQIECBAgQIAAAQIECBQoIAFY4KQbMgECBAgQIECAAAECBAgQIECAQDkCEoDlzLWREiBAgAABAgQIECBAgAABAgQIFCggAVjgpBsyAQIECBAgQIAAAQIECBAgQIBAOQISgOXMtZESIECAAAECBAgQIECAAAECBAgUKCABWOCkGzIBAgQIECBAgAABAgQIECBAgEA5AhKA5cy1kRIgQIAAAQIECBAgQIAAAQIECBQoIAFY4KQbMgECBAgQIECAAAECBAgQIECAQDkCEoDlzLWREiBAgAABAgQIECBAgAABAgQIFCggAVjgpBsyAQIECBAgQIAAAQIECBAgQIBAOQISgOXMtZESIECAAAECBAgQIECAAAECBAgUKCABWOCkGzIBAgQIECBAgAABAgQIECBAgEA5AhKA5cy1kRIgQIAAAQIECBAgQIAAAQIECBQoIAFY4KQbMgECBAgQIECAAAECBAgQIECAQDkCEoDlzLWREiBAgAABAgQIECBAgAABAgQIFCggAVjgpBsyAQIECBAgQIAAAQIECBAgQIBAOQISgOXMtZESIECAAAECBAgQIECAAAECBAgUKCABWOCkGzIBAgQIECBAgAABAgQIECBAgEA5AhKA5cy1kRIgQIAAAQIECBAgQIAAAQIECBQoIAFY4KQbMgECBAgQIECAAAECBAgQIECAQDkCEoDlzLWREiBAgAABAgQIECBAgAABAgQIFCggAVjgpBsyAQIECBAgQIAAAQIECBAgQIBAOQISgOXMtZESIECAAAECBAgQIECAAAECBAgUKCABWOCkGzIBAgQIECBAgAABAgQIECBAgEA5AhKA5cy1kRIgQIAAAQIECBAgQIAAAQIECBQoIAFY4KQbMgECBAgQIECAAAECBAgQIECAQDkCEoDlzLWREiBAgAABAgQIECBAgAABAgQIFCggAVjgpBsyAQIECBAgQIAAAQIECBAgQIBAOQISgOXMtZESIECAAAECBAgQIECAAAECBAgUKCABWOCkGzIBAgQIECBAgAABAgQIECBAgEA5AhKA5cy1kRIgQIAAAQIECBAgQIAAAQIECBQoIAFY4KQbMgECBAgQIECAAAECBAgQIECAQDkCEoDlzLWREiBAgAABAgQIECBAgAABAgQIFCggAVjgpBsyAQIECBAgQIAAAQIECBAgQIBAOQISgOXMtZESIECAAAECBAgQIECAAAECBAgUKCABWOCkGzIBAgQIECBAgAABAgQIECBAgEA5AhKA5cy1kRIgQIAAAQIECBAgQIAAAQIECBQoIAFY4KQbMgECBAgQIECAAAECBAgQIECAQDkCEoDlzLWREiBAgAABAgQIECBAgAABAgQIFCggAVjgpBsyAQIECBAgQIAAAQIECBAgQIBAOQISgOXMtZESIECAAAECBAgQIECAAAECBAgUKCABWOCkGzIBAgQIECBAgAABAgQIECBAgEA5AhKA5cy1kRIgQIAAAQIECBAgQIAAAQIECBQoIAFY4KQbMgECBAgQIECAAAECBAgQIECAQDkCEoDlzLWREiBAgAABAgQIECBAgAABAgQIFCggAVjgpBsyAQIECBAgQIAAAQIECBAgQIBAOQISgOXMtZESIECAAAECBAgQIECAAAECBAgUKCABWOCkGzIBAgQIECBAgAABAgQIECBAgEA5AhKA5cy1kRIgQIAAAQIECBAgQIAAAQIECBQoIAFY4KQbMgECBAgQIECAAAECBAgQIECAQDkCEoDlzLWREiBAgAABAgQIECBAgAABAgQIFCggAVjgpBsyAQIECBAgQIAAAQIECBAgQIBAOQISgOXMtZESIECAAAECBAgQIECAAAECBAgUKCABWOCkGzIBAgQIECBAgAABAgQIECBAgEA5AhKA5cy1kRIgQIAAAQIECBAgQIAAAQIECBQoIAFY4KQbMgECBAgQIECAAAECBAgQIECAQDkCEoDlzLWREiBAgAABAgQIECBAgAABAgQIFCggAVjgpBsyAQIECBAgQIAAAQIECBAgQIBAOQISgOXMtZESIECAAAECBAgQIECAAAECBAgUKCABWOCkGzIBAgQIECBAgAABAgQIECBAgEA5AhKA5cy1kRIgQIAAAQIECBAgQIAAAQIECBQoIAFY4KQbMgECBAgQIECAAAECBAgQIECAQDkCEoDlzLWREiBAgAABAgQIECBAgAABAgQIFCggAVjgpBsyAQIECBAgQIAAAQIECBAgQIBAOQISgOXMtZESIECAAAECBAgQIECAAAECBAgUKCABWOCkGzIBAgQIECBAgAABAgQIECBAgEA5AhKA5cy1kRIgQIAAAQIECBAgQIAAAQIECBQoIAFY4KQbMgECBAgQIECAAAECBAgQIECAQDkCEoDlzLWREiBAgAABAgQIECBAgAABAgQIFCggAVjgpBsyAQIECBAgQIAAAQIECBAgQIBAOQISgOXMtZESIECAAAECBAgQIECAAAECBAgUKCABWOCkGzIBAgQIECBAgAABAgQIECBAgEA5AhKA5cy1kRIgQIAAAQIECBAgQIAAAQIECBQoIAFY4KQbMgECBAgQIECAAAECBAgQIECAQDkCEoDlzLWREiBAgAABAgQIECBAgAABAgQIFCggAVjgpBsyAQIECBAgQIAAAQIECBAgQIBAOQISgOXMtZESIECAAAECBAgQIECAAAECBAgUKCABWOCkGzIBAgQIECBAgAABAgQIECBAgEA5AhKA5cy1kRIgQIAAAQIECBAgQIAAAQIECBQoIAFY4KQbMgECBAgQIECAAAECBAgQIECAQDkCEoDlzLWREiBAgAABAgQIECBAgAABAgQIFCggAVjgpBsyAQIECBAgQIAAAQIECBAgQIBAOQISgOXMtZESIECAAAECBAgQIECAAAECBAgUKCABWOCkGzIBAgQIECBAgAABAgQIECBAgEA5AhKA5cy1kRIgQIAAAQIECBAgQIAAAQIECBQoIAFY4KQbMgECBAgQIECAAAECBAgQIECAQDkCEoDlzLWREiBAgAABAgQIECBAgAABAgQIFCggAVjgpBsyAQIECBAgQIAAAQIECBAgQIBAOQISgOXMtZESIECAAAECBAgQIECAAAECBAgUKCABWOCkGzIBAgQIECBAgAABAgQIECBAgEA5AhKA5cy1kRIgQIAAAQIECBAgQIAAAQIECBQoIAFY4KQbMgECBAgQIECAAAECBAgQIECAQDkCEoDlzLWREiBAgAABAgQIECBAgAABAgQIFCggAVjgpBsyAQIECBAgQIAAAQIECBAgQIBAOQISgOXMtZESIECAAAECBAgQIECAAAECBAgUKCABWOCkGzIBAgQIECBAgAABAgQIECBAgEA5AhKA5cy1kRIgQIAAAQIECBAgQIAAAQIECBQoIAFY4KQbMgECBAgQIECAAAECBAgQIECAQDkCEoDlzLWREiBAgAABAgQIECBAgAABAgQIFCggAVjgpBsyAQIECBAgQIAAAQIECBAgQIBAOQISgOXMtZESIECAAAECBAgQIECAAAECBAgUKLC+wDEbcjsE1tXd+MIXvlCvWhIgQIAAAQIECBAgQIAAAQITFFjwf+6H/y8+wbfQVAcEZjrQR13sp8DFMayP9HNoRkWAAAECBAgQIECAAAECBFop8G3Rq4+2smc6NVUBlwBPlVfjQwSeMGSfXQQIECBAgAABAgQIECBAgMDkBfxffPKmnWjRJcCdmKZedvLmxqguifW7Gq+tEiDQbYEt0f36DN/8DeO+bg9H7wkQaAj4fDcwrBLomYDPd88m1HAINATOivW9g9c3N7ZbLUhAArCgyW7ZUB9q9CeTf3ON11YJEOiPQCb/fL77M59GQqAp4PPd1LBOoF8CPt/9mk+jIdAUaP5fvLndes8FXALc8wk2PAIECBAgQIAAAQIECBAgQIAAgbIFJADLnn+jJ0CAAAECBAgQIECAAAECBAgQ6LmABGDPJ9jwCBAgQIAAAQIECBAgQIAAAQIEyhaQACx7/o2eAAECBAgQIECAAAECBAgQIECg5wISgD2fYMMjQIAAAQIECBAgQIAAAQIECBAoW0ACsOz5N3oCBAgQIECAAAECBAgQIECAAIGeC0gA9nyCDY8AAQIECBAgQIAAAQIECBAgQIAAAQIECBAgQIAAAQIECBAgQIAAAQIECBAgQIAAAQIECBAgQIAAAQIECBAgQIAAAQIECBAgQIAAAQIECBAgQIAAAQIECBAgQIAAAQIECBAgQIAAAQIECBAgQIAAAQIECBAgQIAAAQIECBAgQIAAAQIECBAgQIAAAQIECBAgQIAAAQIECBAgQIAAAQIECBAgQIAAAQIECBAgQIAAAQIECBAgQIAAAQIECBAgQIAAAQIECBAgQIAAAQIECBAgQIAAAQIECBAgQIAAAQIECBAgQIAAAQIECBAgQIAAAQIECBAgQIAAAQIECBAgQIAAAQIECBAgQIAAAQIECPRE4OwYx5URN0fcH3F3xEci3hBxaoRCgEC3BI5Ed0eJ93VrWHpLoPcCT4gRfm/EL0a8M+JLEfVneXesj1teHAf8ScRcxIODZb7O7QoBAqsrMInP96uiy/XfCcsts65CgMDqCFwcb/NvI66PqL9z74v1WyOuiXhuxDjF9/c4WuoSIDCywEuj5j0RS/0j4pbY9+SRW1ORAIE2CCz1eV64/X1t6Kw+ECDwsMDCz2jz9e6Hay2/ckJU+Q8RzeMXrr819mc9hQCB1RFY+Blsvt49YhdeFfWaxw1bz7oKAQLTF/hAvMWwz2K9721R76RluuP7exkguwkQWLnAs+LQByLyL6X9ET8bsSPiH0T8XkT9l1UmATdFKAQIdEOg/uz+TnT3wiHxpG4MRy8JFCNQf3Zz+T8jrouot+2O9VHLr0bF+riPx/orIr5tsMzX9b5fiXWFAIHVEag/d7lc6ef7VXFs3c53xfqw7/jHxH6FAIHpC3w+3iI/l3dF/GbEP43I79xLIl4XkWcE1p/b/xTrw4rv72E69hEgcFwC74+j8y+jgxGZ+FtY8hLg+i+rXQt3ek2AQGsFfG5bOzU6RmCowC/E3rwEePOg1jmxrD/PuwfbllucFxXyez2Py9t5nBLRLHlrj9ye+7PeUyIUAgSmLzCJz/eropv13wnnTL/L3oEAgREE/iLq7IxYt0Tdx8X2PKGm/uw+f4l6vr+XgLGZAIHjF3hONFH/JfSWJZrLU5A/O6j3lVieuEQ9mwkQaJdA/dne1a5u6Q0BAmMKnBP168/z7hGPzTN/62Py7IPFSm6v6/z7xSrYRoDA1AXOiXeoP4e7R3y3VzWOOWfEY1QjQGDtBfKXe/Xn/c1LdMf39xIwfd6cCReFwGoIvKzxJtc01purh+PF2wYb8jKCFzV3WidAgAABAgRaJTATvfm+QY9ujuXeJXqX2/NshCxZP49TCBAgQIAAgekIvK/R7LmN9XrV93ctUdhSArCwCV/D4dZPIro/+vCxIf14f2PfdzbWrRIgQIAAAQLtEnhSdOebB11qfn8v1st6/1mx85zFKthGgAABAgQITETgpEYrhxrr9arv71qisKUEYGETvobDfdrgvfOmpV8f0o88g6Au9TH1a0sCBNot8P3RvbyM/4GIfNDPbRF/EPGiCIUAgf4JPL0xpOb3d2Pzw6vN/b7fH2axQqAzAnkFz99FPBTxpYg8s/eXIjKprxAg0C6BFzS687nGer3q+7uWKGwpAVjYhK/RcDfE++bNSLPkU4mGlbz3X54lmGXbsYWfBAh0RCD/MZH/sT8lYmPEkyN+MOI9EX8ScUaEQoBAfwS2Noay3Pf7bKOu7/cGhlUCHRF4YfTziRF5j+4zI7494t9E5C/3L49QCBBoh0DmeH6m0ZU9jfV61fd3LVHYcn1h4zXctRHY1Hjb+xrrS61mAvC0iEwgKAQItF8gz/h7R8RfR+RZPvk5f3xE/vbxtRH5H4W8D+ifRfyjiIMRCgEC3RcY5/u9/uVejtr3e/fn3gjKEbg9hvrHETdE1In87bH+TyNeHpG/6H9LxJGI34tQCBBYW4HXxds/Z9CF/Owudvst399rO0fenUCvBfI3/fmPgoy3jTDS/zmom79RVAgQaL9APrRnqbI5dnw8ov474MeXqmg7AQJrLnBO9KD+rO4eoTc/16j/D5apn/vrtt+4TF27CRCYvMA50WT9Gdw9YvN55v7MkLrfG/vykuBsN5P8WyIUAgTWTuAF8db5i/b8TM5HPCFiseL7ezGVAradUMAYDXHtBQ40utC8IWlj86NWTx68+tqjtnpBgEBbBb46pGP5j488Q6A+6+9fDalrFwEC3RIY5/u9/m7PEfp+79Y86225AvfE0DORsFT5i9jxi4Odp8byNUtVtJ0AgakLXBDvkLfcyas88/v5+yP+PmKx4vt7MZUCtkkAFjDJLRhiPgygLqNc9pOX/2bJywgVAgS6L5CXD/3VYBh5X8D6qaHdH5kREChbYJzv9/q7PcV8v5f958bo+yWQl/3WScI8+0ghQGD1BfKpvtdHfFPEoYhXRHwgYqni+3spmZ5vlwDs+QS3ZHj5G4YvDfrSvOHoYt3Lv7Tq/yTU9xlZrJ5tBAh0S+Czje6e1Vi3SoBAdwWaD/5Y7vs9bwdSF9/vtYQlge4L5BlGXx4Mw/d79+fTCLonkL9Yf3dELjMZ/+qIP4sYVnx/D9Pp8T4JwB5PbsuG9rlBf/Lsn/VD+vbUxr76mMYmqwQIdFSgPjugo93XbQIEFhFoJvab39+LVK2a+32/LyZkG4HuCviO7+7c6Xm3BR4X3c+rbLYPhpG32nnbYH3Ywvf3MJ0e75MA7PHktmxoHxr0J8/ue/aQvjUvHfjwkHp2ESDQLYGnN7r7d411qwQIdFfgb6Pr9ee5+f292IieP9h4VyzvWKyCbQQIdFLg8dHrTEJkqf8+OPbKTwIEpimQD+m5LqL+N/bPxPq/H/ENfX+PCKUaAQIrE3hOHHZkEG9ZoolMSOdvI7LeVyJOjFAIEOi+QN6X5MGI/Gz/TfeHYwQEeitwToys/q7ePeIof6dxzCVLHJPb63ZH/c/JEk3ZTIDACgXOiePqz+HuFbax2GH/ptGuJ3wvJmQbgckLnBpN5gk29Wf6l1bwFr6/V4DmEAIERhf4QFTNv6QORuxY5LA3DPZnnV2L7LeJAIH2Cbw0urR+SLc2x76PR9T/QLliSF27CBBYW4Fz4u3rz+ruEbtyXtTL7/U87iMRp0Q0S77O7bk/6z0lQiFAYPUFzom3HOfznfWfFTGsfG/srH/B97VYP2tYZfsIEJiIwEnRSp75V3+ef3OFrfr+XiFclw8b9p+2Lo9L39sp8BPRrbysN/8zkE8p+pWI9w5evyKWPxqR5daIK4+u+UGAQNsFfis6mGfr/lHEDRF3ROR/AvJyoBdGXD5Yj8XR31Q6+yclFALtEHhudOPJja7Ul/Hlptz+qlxplN2N9Xo1v7P/74ifibg4Ir/n/6+IPNv33IifjqiTCL8e67dFKAQITF/geD/f50QX89/p+d3+5xE3RuQDP2Yitke8fBD5Osv/GXHX0TU/CBCYpsAfRuPfNXiD98Ty9yMuHLxebPFQbMzv6oXF9/dCEa8JEJi4QJ4tdE9E/RuLhctbYl/zPyMT74AGCRCYqMAd0drCz/Fir/9r1HvMRN9ZYwQIHK/A7mhgsc/rUtuWer+8hUf+B2Sp43L7f4jIegoBAqsjsDveZthncuG+hb164YjH3x/16l/iL2zDawIEJi+w8LO73Os7hnTB9/cQHLsIEJiMwNnRzFURmezLfzTk/f7y8qCfisj7GSgECHRH4AXR1X8b8c6I/Ex/OSIv88vP9aci3hKxI0IhQKB9ArujS8v9x6G5f7kRvCQq/GlEngX04GCZr18coRAgsLoCu+Ptmp/f5dYX9m5TbPjnEb8dsTfizoj8d3t+tvdF/HXEz0Y8IUIhQGD1BJb7LC/cf8cIXfP9PQKSKgQIECBAgAABAgQIECBAgAABAgQIECBAgAABAgQIECBAgAABAgQIECBAgAABAgQIECBAgAABAgQIECBAgAABAgQIECBAgAABAgQIECBAgAABAgQIECBAgAABAgQIECBAgAABAgQIECBAgAABAgQIECBAgAABAgQIECBAgAABAgQIECBAgAABAgQIECBAgAABAgQIECBAgAABAgQIECBAgAABAgQIECBAgAABAgQIECBAgAABAgQIECBAgAABAgQIECBAgAABAgQIECBAgAABAgQIECBAgAABAgQIECBAgAABAgQIECBAgAABAgQIECBAgAABAgQIECBAgAABAgQIECBAgAABAgQIECBAgAABAgQIECBAgAABAgQIECBAgAABAgQIECBAgAABAgQIECBAgAABAgQIECBAgAABAgQIECBAgAABAgQIECBAgAABAgQIECBAgAABAgQIECBAgAABAgQIECBAgAABAgQIECBAgAABAgQIECBAgAABAgQIECBAgAABAgQIEJiYwK5o6cggJtaohggQIECAAAECBFZX4ITVfTvvRoAAAQIECBAgQIAAAQIECBAgQIDAagpIAK6mtvciQIAAAQIECBAgQIAAAQIECBAgsMoCEoCrDO7tCBAgQIAAAQIECBAgQIAAAQIECKymgATgamp7LwIECBAgQIAAAQIECBAgQIAAAQKrLCABuMrg3o4AAQIECBAgQIAAAQIECBAgQIDAagpIAK6mtvciQIAAAQIECPRP4KIY0nxEPi34CxHPiFAIECBAgAABAgQIECBAgAABAgQIEOiAwK7oYyb2MhYrz4uNX43I/X8bcW6EQoAAAQIECBAgQIAAAQIECBAgQIBARwR2RT+XSgC+JPY9MNh/Uyy/OUIhQIAAAQIECBAgQIAAAQIECBAgQKBDAruir4slAP9ZbH9osO+/x/LMCIUAAQIECBAgQIAAAQIECBAgQIAAgY4J7Ir+LkwA/lhsOzzY/u5YboxQCBAgQIAAAQIECBAgQIAAAQIECBDooMCu6HMzAfjGxus/jvWTIxQCBAgQIECAAAECBAgQIECAAAECBDoqsCv6XScAf6Oxfk2sr4tQCBAgQIAAAQIECBAgQIAAAQIECBDosMCu6HudAKyXn45tJ3R4TLpOgAABAgQIEChOwD/eiptyAyZAgAABAgQIrEjgjwZHXRjLN62oBQcRIECAAAECBAgQIECAAAECBAgQINAqgV3Rm/rMvxNj/U8ar/OSYIUAAQIECBAgQIAAAQIECBAgQIAAgQ4L7Iq+1wnAHMZJEX/e2PbruVEhQIAAAQIECBAgQIAAAQIECBAgQKCbArui280EYI4ik4D/rbH93+VGhQABAgQIECBAgAABAgQIECBAgACB7gnsii4vTADmKE6OeFdj3y/lRoUAAQIECBAgQIAAAQIECBAgQIAAgW4J7IruLpYAzFFsiLi+sf8XcqNCgAABAgQIECBAgAABAgQIECBAgEB3BHZFV5dKAOYoTon460adn8uNCgECBAgQIECAAAECBAgQIECAAAEC3RDYFd0clgDMUZwa8b6Iut6/jnWFAAECBAgQIECAAAECBAgQIECAAAECBAgQIECAAAECBAgQIECAAAECBAgQIECAAAECBAgQIECAAAECBAgQIECAAAECBAgQIECAAAECBAgQIECAAAECBAgQIECAAAECBAgQIECAAAECBAgQIECAAAECBAgQIECAAAECBAgQIECAAAECBAgQIECAAAECBAgQIECAAAECBAgQIECAAAECBAgQIECAAAECBAgQIECAAAECBAgQIECAAAECBAgQIECAAAECBAgQIECAAAECBAgQIECAAAECBAgQIECAAAECBAgQIECAAAECBAgQIECAAAECBAgQIECAAAECBAgQIECAAAECBAgQIECAAAECBAgQIECAAAECBAgQIECAAAECBAgQIECAAAECBAgQIECAAAECBAgQIECAAAECBAgQIECAAAECBAgQIECAAAECBAgQIECAAAECBAgQIECAAAECBAgQIECAAAECBAgQIECAAAECBAgQIECAAAECBAgQIECAAAECBAgQIECAAAECBAgQIECAAAECBAgQIECAAAECBAgQIECAAAECBAgQIECAAAECBAgQIECAAAECBAgQIECAAAECBAgQIECAAAECBAgQIECAAAECBAgQIECAAAECBAgQIECAAAECBAgQIECAAAECBAgQIECAAAECBAgQIECAAAECBAgQIECAAAECBAgQIECAAAECBAgQIECAAAECBAgQIECAAAECBAgQIECAAAECBAgQIECAAAECBAgQIECgDwL/P+zYNyRb5h/IAAAAAElFTkSuQmCC\" width=\"640\">"
      ],
      "text/plain": [
       "<IPython.core.display.HTML object>"
      ]
     },
     "metadata": {},
     "output_type": "display_data"
    }
   ],
   "source": [
    "k_range = range(1,20)\n",
    "scores = []\n",
    "\n",
    "for k in k_range:\n",
    "    knn = KNeighborsClassifier(n_neighbors = k)\n",
    "    knn.fit(X_train, y_train)\n",
    "    scores.append(knn.score(X_test, y_test))\n",
    "\n",
    "plt.figure()\n",
    "plt.xlabel('k')\n",
    "plt.ylabel('accuracy')\n",
    "plt.scatter(k_range, scores)\n",
    "plt.xticks([0,5,10,15,20])\n",
    "plt.show()"
   ]
  },
  {
   "cell_type": "code",
   "execution_count": 21,
   "metadata": {
    "collapsed": true
   },
   "outputs": [],
   "source": [
    "(X_train, y_train), (X_test, y_test) = mnist.load_data()"
   ]
  },
  {
   "cell_type": "code",
   "execution_count": 22,
   "metadata": {},
   "outputs": [
    {
     "data": {
      "text/plain": [
       "((60000, 28, 28), (60000,), (10000, 28, 28), (10000,))"
      ]
     },
     "execution_count": 22,
     "metadata": {},
     "output_type": "execute_result"
    }
   ],
   "source": [
    "X_train.shape, y_train.shape, X_test.shape, y_test.shape"
   ]
  },
  {
   "cell_type": "code",
   "execution_count": 23,
   "metadata": {
    "collapsed": true
   },
   "outputs": [],
   "source": [
    "X_train = X_train.reshape(X_train.shape[0], 28*28).astype('float32')\n",
    "X_test = X_test.reshape(X_test.shape[0], 28*28).astype('float32')"
   ]
  },
  {
   "cell_type": "code",
   "execution_count": 28,
   "metadata": {},
   "outputs": [
    {
     "data": {
      "text/plain": [
       "((3000, 784), (3000,), (10000, 784), (10000,))"
      ]
     },
     "execution_count": 28,
     "metadata": {},
     "output_type": "execute_result"
    }
   ],
   "source": [
    "X_train[:3000,:].shape, y_train[:3000].shape, X_test.shape, y_test.shape"
   ]
  },
  {
   "cell_type": "code",
   "execution_count": 31,
   "metadata": {},
   "outputs": [
    {
     "data": {
      "text/plain": [
       "0.91679999999999995"
      ]
     },
     "execution_count": 31,
     "metadata": {},
     "output_type": "execute_result"
    }
   ],
   "source": [
    "knn = KNeighborsClassifier()\n",
    "knn.fit(X_train[:3000,:], y_train[:3000])\n",
    "knn.score(X_test, y_test)"
   ]
  },
  {
   "cell_type": "code",
   "execution_count": 32,
   "metadata": {},
   "outputs": [
    {
     "data": {
      "text/plain": [
       "0.9325"
      ]
     },
     "execution_count": 32,
     "metadata": {},
     "output_type": "execute_result"
    }
   ],
   "source": [
    "knn = KNeighborsClassifier()\n",
    "knn.fit(X_train[:5000,:], y_train[:5000])\n",
    "knn.score(X_test, y_test)"
   ]
  },
  {
   "cell_type": "code",
   "execution_count": null,
   "metadata": {
    "collapsed": true
   },
   "outputs": [],
   "source": []
  }
 ],
 "metadata": {
  "kernelspec": {
   "display_name": "Python 3",
   "language": "python",
   "name": "python3"
  },
  "language_info": {
   "codemirror_mode": {
    "name": "ipython",
    "version": 3
   },
   "file_extension": ".py",
   "mimetype": "text/x-python",
   "name": "python",
   "nbconvert_exporter": "python",
   "pygments_lexer": "ipython3",
   "version": "3.6.1"
  }
 },
 "nbformat": 4,
 "nbformat_minor": 2
}
